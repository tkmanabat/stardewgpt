{
 "cells": [
  {
   "cell_type": "code",
   "execution_count": 1,
   "metadata": {},
   "outputs": [],
   "source": [
    "import nest_asyncio\n",
    "nest_asyncio.apply()"
   ]
  },
  {
   "cell_type": "code",
   "execution_count": 2,
   "metadata": {},
   "outputs": [
    {
     "name": "stderr",
     "output_type": "stream",
     "text": [
      "d:\\User\\Documents - Data Drive\\Kyle\\Projects\\Misc\\StardewGPT\\.venv\\Lib\\site-packages\\tqdm\\auto.py:21: TqdmWarning: IProgress not found. Please update jupyter and ipywidgets. See https://ipywidgets.readthedocs.io/en/stable/user_install.html\n",
      "  from .autonotebook import tqdm as notebook_tqdm\n",
      "2829it [00:14, 196.25it/s]\n"
     ]
    }
   ],
   "source": [
    "#https://github.com/earwig/mwparserfromhell\n",
    "import mwxml\n",
    "import mwparserfromhell\n",
    "from llama_index.core import Document \n",
    "from tqdm import tqdm\n",
    "\n",
    "\n",
    "\n",
    "stardew_wiki_dump = mwxml.Dump.from_file(open(\"stardewvalleywiki.com_mediawiki-20240505-wikidump\\stardewvalleywiki.com_mediawiki-20240505-current.xml\", encoding=\"utf-8\"))\n",
    "\n",
    "raw_documents=[]\n",
    "    \n",
    "\n",
    "for page in tqdm(stardew_wiki_dump.pages):\n",
    "    if not page.redirect:\n",
    "        for revision in page:\n",
    "            # print(page)\n",
    "            # if page.title ==\"Abigail\":\n",
    "            code = mwparserfromhell.parse(revision.text)\n",
    "            # print(f'================Code=================\\n{code}\\n================Code=================')\n",
    "            # text= code.strip_code(\n",
    "            #     normalize=False, collapse=True, keep_template_params=True\n",
    "            # )\n",
    "            # print(f'================Text=================\\n{text}\\n================Text=================')\n",
    "            metadata = {\"Page Title\":page.title}\n",
    "            code=code.split('[[Category')[0]\n",
    "            \n",
    "            raw_documents.append(Document(text=code, metadata=metadata))\n",
    "        \n",
    "# print(documents[0].page_content)"
   ]
  },
  {
   "cell_type": "code",
   "execution_count": 3,
   "metadata": {},
   "outputs": [],
   "source": [
    "raw_documents=raw_documents[:10]"
   ]
  },
  {
   "cell_type": "code",
   "execution_count": 5,
   "metadata": {},
   "outputs": [
    {
     "name": "stderr",
     "output_type": "stream",
     "text": [
      "d:\\User\\Documents - Data Drive\\Kyle\\Projects\\Misc\\StardewGPT\\.venv\\Lib\\site-packages\\huggingface_hub\\file_download.py:1132: FutureWarning: `resume_download` is deprecated and will be removed in version 1.0.0. Downloads always resume when possible. If you want to force a new download, use `force_download=True`.\n",
      "  warnings.warn(\n"
     ]
    },
    {
     "name": "stdout",
     "output_type": "stream",
     "text": [
      "Processing from document 0 to 5\n"
     ]
    },
    {
     "name": "stderr",
     "output_type": "stream",
     "text": [
      "Parsing nodes: 100%|██████████| 5/5 [00:00<00:00, 5046.08it/s]\n",
      "100%|██████████| 5/5 [00:42<00:00,  8.43s/it]\n",
      "100%|██████████| 5/5 [00:09<00:00,  1.97s/it]\n",
      "Generating embeddings: 100%|██████████| 5/5 [00:45<00:00,  9.15s/it]\n"
     ]
    },
    {
     "name": "stdout",
     "output_type": "stream",
     "text": [
      "Processing from document 5 to 10\n"
     ]
    },
    {
     "name": "stderr",
     "output_type": "stream",
     "text": [
      "Parsing nodes: 100%|██████████| 5/5 [00:00<00:00, 4863.53it/s]\n",
      "100%|██████████| 5/5 [00:25<00:00,  5.14s/it]\n",
      "100%|██████████| 5/5 [00:11<00:00,  2.39s/it]\n",
      "Generating embeddings: 100%|██████████| 5/5 [00:00<00:00, 21.24it/s]\n"
     ]
    }
   ],
   "source": [
    "from llama_index.core.extractors import (\n",
    "    QuestionsAnsweredExtractor,\n",
    "    SummaryExtractor\n",
    ")\n",
    "\n",
    "from langchain.text_splitter import RecursiveCharacterTextSplitter\n",
    "from llama_index.core.node_parser import LangchainNodeParser\n",
    "\n",
    "text_splitter= LangchainNodeParser(RecursiveCharacterTextSplitter(\n",
    "    add_start_index=True,\n",
    "    chunk_size=1500,\n",
    "    is_separator_regex=True,\n",
    "    # separators = [r\"\\w(=){3}\\n\", r\"\\w(=){2}\\n\", r\"\\n\\n\", r\"\\n\"],\n",
    "    separators = [r\"\\n\\n\", r\"\\n\"],))\n",
    "\n",
    "from llama_index.llms.ollama import Ollama\n",
    "llm=Ollama(model=\"llama3\", request_timeout=60.0)\n",
    "\n",
    "\n",
    "# llm=None\n",
    "qa_extractor = QuestionsAnsweredExtractor(llm,questions=5)\n",
    "summary_extractor = SummaryExtractor(llm)\n",
    "\n",
    "\n",
    "from llama_index.embeddings.huggingface import HuggingFaceEmbedding\n",
    "embed_model = HuggingFaceEmbedding(model_name=\"all-MiniLM-L6-v2\")\n",
    "\n",
    "from llama_index.core.ingestion import IngestionPipeline\n",
    "from llama_index.vector_stores.chroma import ChromaVectorStore\n",
    "import chromadb\n",
    "from llama_index.core import StorageContext\n",
    "\n",
    "\n",
    "\n",
    "# chroma_client = chromadb.EphemeralClient()\n",
    "chroma_client=chromadb.PersistentClient(path=\"./chroma_db\")\n",
    "chroma_collection = chroma_client.get_or_create_collection(\"stardew_wiki\")\n",
    "vector_store = ChromaVectorStore(chroma_collection)\n",
    "storage_context = StorageContext.from_defaults(vector_store=vector_store)\n",
    "\n",
    "pipeline = IngestionPipeline(\n",
    "    transformations=[text_splitter, \n",
    "                     qa_extractor, \n",
    "                     summary_extractor,\n",
    "                     embed_model\n",
    "                     ],\n",
    "    vector_store=vector_store,\n",
    ")\n",
    "\n",
    "for i in range (0, len(raw_documents), 5):\n",
    "    print(f'Processing from document {i} to {i+5}')\n",
    "    pipeline.run(\n",
    "        documents=raw_documents[i:i+5],\n",
    "        show_progress=True,\n",
    "        # num_workers=3\n",
    "    )\n",
    "\n",
    "# pipeline.run(\n",
    "#     documents=raw_documents,\n",
    "#     show_progress=True,\n",
    "#     # num_workers=3\n",
    "# )\n",
    "\n",
    "\n",
    "# from llama_index.core import VectorStoreIndex\n",
    "# index = VectorStoreIndex.from_vector_store(vector_store,embed_model=embed_model)\n"
   ]
  },
  {
   "cell_type": "code",
   "execution_count": 6,
   "metadata": {},
   "outputs": [],
   "source": [
    "# db=chromadb.PersistentClient(path=\"./chroma_db\")\n",
    "# test=db.get_collection(\"stardew_wiki\")\n",
    "# test_vector_store = ChromaVectorStore(test)\n",
    "from llama_index.core import VectorStoreIndex\n",
    "test_index = VectorStoreIndex.from_vector_store(vector_store,embed_model=embed_model)"
   ]
  },
  {
   "cell_type": "code",
   "execution_count": 7,
   "metadata": {},
   "outputs": [],
   "source": [
    "retriever=test_index.as_retriever(verbose=True)"
   ]
  },
  {
   "cell_type": "code",
   "execution_count": 8,
   "metadata": {},
   "outputs": [
    {
     "name": "stdout",
     "output_type": "stream",
     "text": [
      "[NodeWithScore(node=TextNode(id_='749b93d4-bd4c-4085-af63-566ecc3666d4', embedding=None, metadata={'Page Title': \"'1000 Years From Now'\", 'questions_this_excerpt_can_answer': 'Based on the provided context, here are five potential questions that this context can specifically answer:\\n\\n1. What is the name of the painter whose stock appears during Winter 16 every 3 years, and how does it relate to the \"1000 Years From Now\" piece of furniture?\\n\\nThis question requires knowledge of the specific event (Night Market) and its timing (every 3 years), as well as the connection between Famous Painter Lupini and the \"1000 Years From Now\" piece.\\n\\n2. What is the name of the market where the \"1000 Years From Now\" piece of furniture can be purchased, and when does it appear?\\n\\nThis question requires knowledge of the specific event (Night Market) and its timing (Winter 16), as well as the location where the piece can be found.\\n\\n3. How much does the \"1000 Years From Now\" piece of furniture cost to purchase?\\n\\nThis question requires knowledge of the specific price mentioned in the context, which is {{Price|1200}}.\\n\\n4. What year did the \"1000 Years From Now\" piece of furniture first appear on the market?\\n\\nThis question requires knowledge of the specific date mentioned in the history section, which is 1.3.27 and can be converted to a year (assuming it\\'s a timestamp in game years).\\n\\n5. How often does the \"1000 Years From Now\" piece of furniture rotate into Famous Painter Lupini\\'s stock during Winter 16?\\n\\nThis question requires knowledge of the specific timing mentioned in the context, which is every 3 years.\\n\\nHigher-level summaries of surrounding context that can be used to generate better questions include:\\n\\n* The game or world where this piece of furniture exists (e.g., \"What other unique items can I find in this world?\")\\n* The cultural or historical significance of the Night Market event (e.g., \"What is the purpose of the Night Market, and how does it impact the community?\")\\n* The characteristics or properties of the \"1000 Years From Now\" piece of furniture that make it special or valuable (e.g., \"What makes this piece of furniture so rare or desirable?\")', 'section_summary': 'Here is a summary of the key topics and entities in the section:\\n\\n**Key Topics:**\\n\\n* The \"1000 Years From Now\" piece of furniture\\n* Night Market event\\n* Famous Painter Lupini\\n* Winter 16 season\\n\\n**Entities:**\\n\\n* \"1000 Years From Now\" (furniture)\\n* Night Market (event)\\n* Famous Painter Lupini (person)\\n\\nLet me know if you\\'d like me to help with anything else!'}, excluded_embed_metadata_keys=[], excluded_llm_metadata_keys=[], relationships={<NodeRelationship.SOURCE: '1'>: RelatedNodeInfo(node_id='3f20bf1a-dbc4-4744-a86d-8c1b20da7924', node_type=<ObjectType.DOCUMENT: '4'>, metadata={'Page Title': \"'1000 Years From Now'\"}, hash='fa53c49d09bcd7a34de5b4e8fd7b96a2053d16b3ac3062e06ed54d698fbbf9db')}, text=\"{{Infobox furniture\\n|image = '1000 Years From Now'\\n|os = [[Night Market]]\\n|showheader = n\\n}}\\n''''1000 Years From Now'''' is a piece of [[furniture]] that hangs on a wall.  It rotates into Famous Painter Lupini's stock on Winter 16 during the [[Night Market]] starting in year 2, and reappears on Winter 16 every 3 years.  It can be purchased for {{Price|1200}}.\\n\\n==History==\\n{{History|1.3.27|Introduced.}}\\n\\n{{NavboxFurniture}}\", start_char_idx=0, end_char_idx=426, text_template='[Excerpt from document]\\n{metadata_str}\\nExcerpt:\\n-----\\n{content}\\n-----\\n', metadata_template='{key}: {value}', metadata_seperator='\\n'), score=0.2995529224462117), NodeWithScore(node=TextNode(id_='d5387636-ff13-458b-b0b3-7b95e5ff4277', embedding=None, metadata={'Page Title': \"'Binary'\", 'questions_this_excerpt_can_answer': 'Based on the given context, here are five potential questions that this context can provide specific answers to:\\n\\n1. What is the name of the painting that is a furniture item available from the Retro Catalogue?\\n\\t* This question can be answered by referencing the \"The \\'Binary\\' painting\" mentioned in the description.\\n2. When was the \\'Binary\\' painting introduced as a furniture item in the game?\\n\\t* This question can be answered by referencing the \"Introduced.\" date mentioned in the History section.\\n3. What is the description of the \\'Binary\\' painting, according to the Retro Catalogue\\'s furniture page?\\n\\t* This question can be answered by referencing the {{Description|furniture}} template mentioned in the Infobox.\\n4. Can the \\'Binary\\' painting be found in any other category or section besides the Retro Catalogue and the Furniture category?\\n\\t* This question can be answered by checking if there are any other references to the \\'Binary\\' painting outside of this context.\\n5. Is the \\'Binary\\' painting a unique or exclusive item that can only be obtained through the Retro Catalogue, or is it also available elsewhere in the game?\\n\\t* This question can be answered by comparing the availability of the \\'Binary\\' painting across different contexts and sections.\\n\\nAs for higher-level summaries surrounding this context, one possible summary could be:\\n\\nThe \\'Binary\\' painting is a rare or unique item that can only be obtained through the Retro Catalogue, a special section in the game that offers exclusive furniture items. This painting is likely to have a distinctive appearance or history that sets it apart from other furniture items in the game.\\n\\nUsing this summary, additional questions could include:\\n\\n* What makes the \\'Binary\\' painting unique compared to other furniture items in the game?\\n* Is there any special significance or story behind the \\'Binary\\' painting that justifies its exclusive availability through the Retro Catalogue?', 'section_summary': 'Based on the provided content, the summary is:\\n\\n* The \"Binary\" painting is a rare or unique furniture item that can only be obtained through the Retro Catalogue.\\n* The painting has a distinctive appearance or history that sets it apart from other furniture items in the game.\\n\\nKey topics and entities:\\n\\n1. \"Binary\" painting: A rare and unique furniture item available from the Retro Catalogue.\\n2. Retro Catalogue: A special section in the game that offers exclusive furniture items.\\n3. History: Introduced in version 1.6.'}, excluded_embed_metadata_keys=[], excluded_llm_metadata_keys=[], relationships={<NodeRelationship.SOURCE: '1'>: RelatedNodeInfo(node_id='b74f7434-3852-4512-81d4-8943e4cfc9a4', node_type=<ObjectType.DOCUMENT: '4'>, metadata={'Page Title': \"'Binary'\"}, hash='07d090f653f2d79128fd2575b141880a6eff43edae69ed2740661c50443c01ed')}, text=\"{{Spoiler}}\\n{{Infobox furniture\\n|os = [[Retro Catalogue]]\\n|description = {{Description|furniture}}\\n}}\\nThe ''''Binary'''' painting is a [[furniture]] item available from the [[Retro Catalogue]].\\n\\n==History==\\n{{History|1.6|Introduced.}}\\n\\n{{NavboxFurniture}}\", start_char_idx=0, end_char_idx=255, text_template='[Excerpt from document]\\n{metadata_str}\\nExcerpt:\\n-----\\n{content}\\n-----\\n', metadata_template='{key}: {value}', metadata_seperator='\\n'), score=0.18116712829058143)]\n"
     ]
    }
   ],
   "source": [
    "nodes = retriever.retrieve(\"What is 1000 Years From Now?\")\n",
    "print(nodes)"
   ]
  },
  {
   "cell_type": "code",
   "execution_count": 5,
   "metadata": {},
   "outputs": [
    {
     "data": {
      "text/plain": [
       "[TextNode(id_='fda32327-491d-48cf-b15f-7f6ddfc87fcd', embedding=None, metadata={'Page Title': \"'1000 Years From Now'\", 'questions_this_excerpt_can_answer': 'Based on the context, here are five questions that this text can provide specific answers to:\\n\\n1. What is the name of the famous painter associated with the \"1000 Years From Now\" furniture piece?\\n\\nThis question can be answered by looking at the sentence that mentions the rotation into Famous Painter Lupini\\'s stock.\\n\\n2. How often does the \"1000 Years From Now\" furniture reappear on Winter 16 during the Night Market?\\n\\nThis question can be answered by examining the sentence that describes the rotation and reappearance of the furniture every 3 years.\\n\\n3. What is the price of the \"1000 Years From Now\" furniture piece?\\n\\nThis question can be answered by looking at the sentence that mentions the purchase price of {{Price|1200}}.\\n\\n4. In what year was the \"1000 Years From Now\" furniture introduced?\\n\\nThis question can be answered by examining the History section, which states that it was introduced in 1.3.27.\\n\\n5. When does the \"1000 Years From Now\" furniture start appearing on Winter 16 during the Night Market?\\n\\nThis question can be answered by looking at the sentence that describes the rotation and reappearance of the furniture starting in year 2.\\n\\nHigher-level summaries of surrounding context that could generate better questions include:\\n\\n* The Night Market is a recurring event with specific dates and times.\\n* There may be other pieces of furniture or items that are introduced, rotated, or reappear during the Night Market.\\n* Famous Painter Lupini may have other artworks or items associated with him that appear during the Night Market.\\n\\nSome additional questions that could be generated based on these summaries include:\\n\\n* What is the duration of the Night Market event?\\n* Are there any specific rules or restrictions for purchasing items during the Night Market?\\n* Does Famous Painter Lupini have a unique style or theme to his artworks?', 'section_summary': 'The key topics and entities in this section are:\\n\\n* The \"1000 Years From Now\" furniture piece, including its characteristics, appearance, and rotation into Famous Painter Lupini\\'s stock during the Night Market.\\n* Famous Painter Lupini, a notable artist associated with the furniture piece.\\n* The Night Market, a recurring event where the furniture piece appears every 3 years.\\n* Winter 16, a specific date and time when the Night Market takes place.\\n\\nOverall, this section provides information about the \"1000 Years From Now\" furniture piece, its history, and its relationship to the Night Market.'}, excluded_embed_metadata_keys=[], excluded_llm_metadata_keys=[], relationships={<NodeRelationship.SOURCE: '1'>: RelatedNodeInfo(node_id='1dde1a8d-ba04-4ed3-9d70-ceb707e26f68', node_type=<ObjectType.DOCUMENT: '4'>, metadata={'Page Title': \"'1000 Years From Now'\"}, hash='fa53c49d09bcd7a34de5b4e8fd7b96a2053d16b3ac3062e06ed54d698fbbf9db')}, text=\"{{Infobox furniture\\n|image = '1000 Years From Now'\\n|os = [[Night Market]]\\n|showheader = n\\n}}\\n''''1000 Years From Now'''' is a piece of [[furniture]] that hangs on a wall.  It rotates into Famous Painter Lupini's stock on Winter 16 during the [[Night Market]] starting in year 2, and reappears on Winter 16 every 3 years.  It can be purchased for {{Price|1200}}.\\n\\n==History==\\n{{History|1.3.27|Introduced.}}\\n\\n{{NavboxFurniture}}\", start_char_idx=0, end_char_idx=426, text_template='[Excerpt from document]\\n{metadata_str}\\nExcerpt:\\n-----\\n{content}\\n-----\\n', metadata_template='{key}: {value}', metadata_seperator='\\n'),\n",
       " TextNode(id_='99948981-f122-4202-a6af-46c7ce677034', embedding=None, metadata={'Page Title': \"'A Night On Eco-Hill'\", 'questions_this_excerpt_can_answer': \"Based on the given context, here are five questions that this text can provide specific answers to:\\n\\n1. What is the name of the piece of furniture in the game?\\n\\nAnswer: 'A Night On Eco-Hill'\\n\\n2. How many items must be donated to the Museum to obtain this piece of furniture?\\n\\nAnswer: 20\\n\\n3. Can 'A Night On Eco-Hill' be obtained through any means other than donating items to the Museum?\\n\\nAnswer: No, it can only be obtained by donating 20 items.\\n\\n4. Is there a specific category or type of item that must be donated to obtain 'A Night On Eco-Hill'? \\n\\nAnswer: No, the context does not specify a particular category or type of item (only that 20 items in total are required).\\n\\n5. What is the date of introduction for this piece of furniture?\\n\\nAnswer: 1.0\\n\\nAs for higher-level summaries and generating better questions based on surrounding context:\\n\\n* Summary: The game has a Museum where players can donate items to obtain rewards, including unique pieces of furniture like 'A Night On Eco-Hill'.\\n* Questions that might be answered by this text:\\n\\t+ What is the purpose of the Museum in the game?\\n\\t+ Are there any other rewards or items that can be obtained through donations to the Museum?\\n\\t+ Is there a limit to the number of times an item can be donated, or are there restrictions on which items can be donated?\\n\\nThese questions and summaries can provide more context about the game's mechanics, rewards, and overall structure.\", 'section_summary': 'Here is a summary of the key topics and entities in this section:\\n\\n* Key topic: The \"A Night On Eco-Hill\" piece of furniture in an unspecified game.\\n* Entities:\\n\\t+ The Museum, where players can donate items to obtain rewards.\\n\\t+ Furniture, specifically \"A Night On Eco-Hill\", which hangs on a wall.\\n\\nThese are the main entities and topics discussed in this section.'}, excluded_embed_metadata_keys=[], excluded_llm_metadata_keys=[], relationships={<NodeRelationship.SOURCE: '1'>: RelatedNodeInfo(node_id='ae261d26-423b-45ac-abb7-3014c27aff49', node_type=<ObjectType.DOCUMENT: '4'>, metadata={'Page Title': \"'A Night On Eco-Hill'\"}, hash='03ffdbaa3b2c91e6821bc8673e1f3ec4f8453cb996932d086a4fc536fae10fbd')}, text=\"{{Infobox furniture\\n|mu = 20 items\\n}}\\n''''A Night On Eco-Hill'''' is a piece of [[furniture]] that hangs on a wall.  It can be obtained only by donating 20 items to the [[Museum]].\\n\\n==History==\\n{{History|1.0|Introduced.}}\\n\\n{{NavboxFurniture}}\", start_char_idx=0, end_char_idx=242, text_template='[Excerpt from document]\\n{metadata_str}\\nExcerpt:\\n-----\\n{content}\\n-----\\n', metadata_template='{key}: {value}', metadata_seperator='\\n'),\n",
       " TextNode(id_='79edbdc2-699f-4846-8a59-57bd555c8b57', embedding=None, metadata={'Page Title': \"'Abstract'\", 'questions_this_excerpt_can_answer': 'Based on the given context, here are five potential questions that this text can provide specific answers to:\\n\\n1. What is the name of the painting featured in the Retro Catalogue?\\n\\nAnswer: The \"Abstract\" painting.\\n\\n2. When was the \"Abstract\" painting introduced in the game?\\n\\nAnswer: According to the History section, it was introduced in version 1.6.\\n\\n3. Is the \"Abstract\" painting a type of furniture item?\\n\\nAnswer: Yes, according to the Infobox furniture and the text description, the \"Abstract\" painting is a furniture item.\\n\\n4. Where can you find the \"Abstract\" painting in the game?\\n\\nAnswer: You can find it in the Retro Catalogue.\\n\\n5. What is the description of the \"Abstract\" painting provided in-game?\\n\\nAnswer: The description is not explicitly stated in the given text, but according to the Infobox furniture, it provides a link to the {{Description|furniture}} template, which likely contains the description.\\n\\nAs for higher-level summaries and potential questions that this context can answer:\\n\\n* This text appears to be part of a larger database or wiki related to an online game or simulation.\\n* The Retro Catalogue seems to be a central hub for purchasing or acquiring various items in the game.\\n* The furniture item category may include other decorative or functional objects, such as chairs, tables, or vases.\\n\\nSome potential follow-up questions could include:\\n\\n* What other types of items can you find in the Retro Catalogue?\\n* Are there any specific requirements or restrictions for purchasing certain furniture items?\\n* Can you customize or decorate your virtual space with these furniture items?\\n\\nThese higher-level summaries and potential questions can help generate more context-specific inquiries that this text can answer.', 'section_summary': 'Here is a summary of the key topics and entities in this section:\\n\\n**Key Topics:**\\n\\n* The \"Abstract\" painting, a furniture item available from the Retro Catalogue.\\n* History of the painting\\'s introduction.\\n\\n**Entities:**\\n\\n* The \"Abstract\" painting (a furniture item)\\n* Retro Catalogue (a hub for purchasing or acquiring items)\\n* Furniture category (includes decorative and functional objects)\\n\\nLet me know if you\\'d like me to help with anything else!'}, excluded_embed_metadata_keys=[], excluded_llm_metadata_keys=[], relationships={<NodeRelationship.SOURCE: '1'>: RelatedNodeInfo(node_id='4f0b25ee-922d-405f-aba5-bb69521f9683', node_type=<ObjectType.DOCUMENT: '4'>, metadata={'Page Title': \"'Abstract'\"}, hash='57e373391f884a8e3e331c4aceaed46c59a3c5c0a7e7ff28d4e38fa9e4d0afc7')}, text=\"{{Spoiler}}\\n{{Infobox furniture\\n|os = [[Retro Catalogue]]\\n|description = {{Description|furniture}}\\n}}\\nThe ''''Abstract'''' painting is a [[furniture]] item available from the [[Retro Catalogue]].\\n\\n==History==\\n{{History|1.6|Introduced.}}\\n\\n{{NavboxFurniture}}\", start_char_idx=0, end_char_idx=257, text_template='[Excerpt from document]\\n{metadata_str}\\nExcerpt:\\n-----\\n{content}\\n-----\\n', metadata_template='{key}: {value}', metadata_seperator='\\n'),\n",
       " TextNode(id_='b35410e4-90b0-4165-9088-d71b8d3b2715', embedding=None, metadata={'Page Title': \"'Binary'\", 'questions_this_excerpt_can_answer': \"Based on the provided context, here are five questions that this context can specifically answer:\\n\\n1. What is the name of the painting described in this context?\\nAnswer: 'Binary'\\n\\n2. Where can one find the 'Binary' painting?\\nAnswer: In the [[Retro Catalogue]]\\n\\n3. What type of item is the 'Binary' painting?\\nAnswer: It is a [[furniture]] item\\n\\n4. When was the 'Binary' painting introduced to the game or setting?\\nAnswer: According to the {{History}} section, it was introduced in version 1.6\\n\\n5. Is there a description available for the 'Binary' painting?\\nAnswer: Yes, according to the {{Infobox furniture|description}} section, there is a description available for this item.\\n\\nAs for higher-level summaries and related questions that this context can answer:\\n\\n* The context appears to be describing an in-game item or collectible from a game with a retro aesthetic.\\n\\t+ Questions: What type of game does this item belong to? Is the 'Binary' painting part of a larger set of retro-themed items?\\n* The context includes links to other related pages, such as [[Retro Catalogue]] and {{Description|furniture}}.\\n\\t+ Questions: What is the purpose of these linked pages? Are they providing additional information about the 'Binary' painting or the game's furniture collection in general?\\n\\nThese questions can help provide more insight into the context and its relationship to surrounding content.\", 'section_summary': 'Here is a summary of the key topics and entities in this section:\\n\\n**Key Topics:**\\n\\n* The \"Binary\" painting, a furniture item\\n* Its availability from the Retro Catalogue\\n* Its history, introduced in version 1.6\\n\\n**Entities:**\\n\\n* The \"Binary\" painting (a specific item)\\n* Retro Catalogue (a collection or database of items)\\n* Description (a section or page providing information about the item)\\n\\nLet me know if you\\'d like me to help with anything else!'}, excluded_embed_metadata_keys=[], excluded_llm_metadata_keys=[], relationships={<NodeRelationship.SOURCE: '1'>: RelatedNodeInfo(node_id='72b0919e-85a5-4194-ad2a-b9ba59524563', node_type=<ObjectType.DOCUMENT: '4'>, metadata={'Page Title': \"'Binary'\"}, hash='07d090f653f2d79128fd2575b141880a6eff43edae69ed2740661c50443c01ed')}, text=\"{{Spoiler}}\\n{{Infobox furniture\\n|os = [[Retro Catalogue]]\\n|description = {{Description|furniture}}\\n}}\\nThe ''''Binary'''' painting is a [[furniture]] item available from the [[Retro Catalogue]].\\n\\n==History==\\n{{History|1.6|Introduced.}}\\n\\n{{NavboxFurniture}}\", start_char_idx=0, end_char_idx=255, text_template='[Excerpt from document]\\n{metadata_str}\\nExcerpt:\\n-----\\n{content}\\n-----\\n', metadata_template='{key}: {value}', metadata_seperator='\\n'),\n",
       " TextNode(id_='31cf2879-2085-42e6-afe5-96c507a2ab02', embedding=None, metadata={'Page Title': \"'Blue City'\", 'questions_this_excerpt_can_answer': 'Based on the provided context, here are five potential questions that this context can specifically answer:\\n\\n1. What is the price of \"Blue City\" when purchased from the Carpenter\\'s Shop on Saturdays?\\nAnswer: {{Price|250}} (from the given infobox)\\n\\n2. In which locations can you find \"Blue City\" available for daily stock?\\nAnswers: Carpenter\\'s Shop and Traveling Cart (based on the text mentioning these two locations as possible sources of daily stock)\\n\\n3. What is the price of \"Blue City\" when purchased from the Furniture Catalogue?\\nAnswer: {{Price|0}} (from the given infobox)\\n\\n4. Can \"Blue City\" be found in the Traveling Cart, and if so, what is its price range?\\nAnswers: Yes, it can be found in the Traveling Cart, and the price range is between {{tprice|furniture}} (from the given text).\\n\\n5. When was \"Blue City\" first introduced to the game?\\nAnswer: Introduced 1.0 (based on the History section of the context)\\n\\nAs for higher-level summaries of surrounding context, it appears that this \"Blue City\" piece of furniture is part of a larger game or simulation featuring various locations and items. This context can provide specific answers about the properties and availability of \"Blue City\", but may not be able to address broader questions about the overall game mechanics or narrative.\\n\\nSome potential higher-level summary questions that could be generated based on this context include:\\n\\n* What is the main theme or setting of the game featuring \"Blue City\"?\\n* How do players typically interact with items like \"Blue City\" in the game?\\n* Are there any other furniture pieces or decorative items similar to \"Blue City\" that can be found in the game?', 'section_summary': 'The section is about a piece of furniture called \"Blue City\" in a game or simulation. The main topics and entities are:\\n\\n* \"Blue City\", a wall-hanging furniture piece\\n* Carpenter\\'s Shop, a location where \"Blue City\" can be purchased on Saturdays\\n* Traveling Cart, another location where \"Blue City\" can be found for a variable price range\\n* Furniture Catalogue, a source of \"Blue City\" with a fixed price of 0\\n* Game or simulation, the broader context in which \"Blue City\" is featured\\n\\nThe section also includes an infobox providing specific information about \"Blue City\", as well as sub-sections on position and history.'}, excluded_embed_metadata_keys=[], excluded_llm_metadata_keys=[], relationships={<NodeRelationship.SOURCE: '1'>: RelatedNodeInfo(node_id='8a7be291-b8c1-4977-b126-4c6ac996243f', node_type=<ObjectType.DOCUMENT: '4'>, metadata={'Page Title': \"'Blue City'\"}, hash='b36cb59cd6a5a5a33b15a807b65c84ec12d80a157c8c40dcfb06756c36a27a41')}, text=\"{{Infobox furniture\\n|cs = 250\\n|tc = y\\n|fc = y\\n}}\\n''''Blue City'''' is a piece of [[furniture]] that hangs on a wall. It can rotate into daily stock at the [[Carpenter's Shop]] for {{Price|250}} on Saturdays or the [[Traveling Cart]] for between {{tprice|furniture}}.\\n\\nIt's also available from the [[Furniture Catalogue]] for {{Price|0}}.\\n\\n==Position==\\nNote that some small paintings hang higher or lower on the wall than others.\\n\\n[[File:SmallPaintingsPosition.png]]{{clear}}\\n\\n==History==\\n{{History|1.0|Introduced.}}\\n\\n{{NavboxFurniture}}\", start_char_idx=0, end_char_idx=536, text_template='[Excerpt from document]\\n{metadata_str}\\nExcerpt:\\n-----\\n{content}\\n-----\\n', metadata_template='{key}: {value}', metadata_seperator='\\n'),\n",
       " TextNode(id_='1bcbccb4-e34b-43e3-8ba3-58a56f0923bb', embedding=None, metadata={'Page Title': \"'Blueberries'\", 'questions_this_excerpt_can_answer': 'Based on the provided context, here are five questions that this context can provide specific answers to:\\n\\n1. What is the price range for purchasing \"Blueberries\" furniture from the Traveling Cart?\\n\\nAnswer: Between {{tprice|furniture}}.\\n\\n2. Can I find \"Blueberries\" in the Furniture Catalogue at a certain price point?\\n\\nAnswer: Yes, it\\'s available for {{Price|0}}.\\n\\n3. What is the daily stock rotation process for \"Blueberries\" furniture at the Carpenter\\'s Shop?\\n\\nAnswer: It can rotate into daily stock for {{Price|250}}.\\n\\n4. How many small paintings hang higher or lower on the wall than others in relation to \"Blueberries\"?\\n\\nAnswer: Note that some small paintings hang higher or lower on the wall than others, implying a specific number (although it\\'s not explicitly stated).\\n\\n5. When was \"Blueberries\" furniture introduced?\\n\\nAnswer: According to the History section, {{History|1.0|Introduced}}.\\n\\nSurrounding context summaries:\\n\\n* The context appears to be part of a larger catalog or inventory system for various items, including furniture and crops.\\n* The presence of the Traveling Cart and Carpenter\\'s Shop suggests that these items may be available in different locations or through different means.\\n\\nBased on these summaries, additional questions could include:\\n\\n* What is the purpose of the Traveling Cart and Carpenter\\'s Shop?\\n* Can I find other types of furniture or items with similar rotation processes?\\n* Are there any specific requirements or restrictions for purchasing \"Blueberries\" from the Traveling Cart or Carpenter\\'s Shop?\\n\\nThese questions would likely be answered by exploring other related contexts or pages within this inventory system.', 'section_summary': 'The section appears to be part of a larger catalog or inventory system for various items, including furniture and crops. The main topic is \"Blueberries\", a piece of furniture that hangs on a wall.\\n\\nKey entities:\\n\\n* Blueberries (furniture)\\n* Traveling Cart\\n* Carpenter\\'s Shop\\n* Furniture Catalogue\\n\\nKey topics:\\n\\n* Price range: Between {{tprice|furniture}} from the Traveling Cart, and {{Price|250}} from the Carpenter\\'s Shop.\\n* Availability: Also available in the Furniture Catalogue for {{Price|0}}.\\n* Position: Some small paintings hang higher or lower on the wall than others.\\n* History: Introduced according to the History section.'}, excluded_embed_metadata_keys=[], excluded_llm_metadata_keys=[], relationships={<NodeRelationship.SOURCE: '1'>: RelatedNodeInfo(node_id='2a43dc41-9f07-4942-9613-4f9582187c4a', node_type=<ObjectType.DOCUMENT: '4'>, metadata={'Page Title': \"'Blueberries'\"}, hash='6c7fbf6929093dcac71288f3b7984cf7acafbec9fdf079b3c508f7765cccb110')}, text=\"{{Infobox furniture\\n|cs = 250\\n|tc = y\\n|fc = y\\n}}\\n:''Note: This article is about the furniture. For the [[Crops|crop]] see the [[Blueberry]] page.''\\n\\n''''Blueberries'''' is a piece of [[furniture]] that hangs on a wall. It can rotate into daily stock at the [[Carpenter's Shop]] for {{Price|250}} or the [[Traveling Cart]] for between {{tprice|furniture}}.\\n\\nIt's also available from the [[Furniture Catalogue]] for {{Price|0}}.\\n\\n==Position==\\nNote that some small paintings hang higher or lower on the wall than others.\\n\\n[[File:SmallPaintingsPosition.png]]{{clear}}\\n\\n==History==\\n{{History|1.0|Introduced.}}\\n\\n{{NavboxFurniture}}\", start_char_idx=0, end_char_idx=625, text_template='[Excerpt from document]\\n{metadata_str}\\nExcerpt:\\n-----\\n{content}\\n-----\\n', metadata_template='{key}: {value}', metadata_seperator='\\n'),\n",
       " TextNode(id_='131081f9-f756-4a86-97da-d85f1c47c56d', embedding=None, metadata={'Page Title': \"'Boat'\", 'questions_this_excerpt_can_answer': 'Based on the provided context, here are five potential questions that this context can specifically answer:\\n\\n1. What is the location where you can obtain the \"Boat\" piece of furniture in the game?\\n\\n(This question can be answered by referencing the text: \"It can be obtained by fishing at the southwest spot of the Beach Farm.\")\\n\\n2. Is it possible to obtain multiple \"Boat\" paintings per player per game?\\n\\n(This question can be answered by referencing the ref tag: \"Only one painting can be obtained per player per game.\")\\n\\n3. Where is the hidden path that provides access to the sea in the Beach Farm?\\n\\n(This question can be answered by referencing the text: \"There is a hidden path downwards that gives access to the sea... at the left of the southwest pond.\")\\n\\n4. Is the \"Boat\" piece of furniture available for purchase from the Furniture Catalogue?\\n\\n(This question can be answered by referencing the text: \"It is not available from the Furniture Catalogue.\")\\n\\n5. What is the type of activity required to obtain the \"Boat\" piece of furniture?\\n\\n(This question can be answered by referencing the text: \"...can be obtained by fishing...\")\\n\\nHigher-level summaries of surrounding context that could generate better questions include:\\n\\n* The game has a farm map with different areas, such as beaches and ponds.\\n* There are various activities that can be done on the farm, including fishing.\\n* The game has a system for obtaining furniture or other items through certain actions.\\n\\nThese summaries could lead to additional questions, such as: What other activities are available on the farm? Are there any specific requirements or restrictions for completing these activities? How do the different areas of the farm interact with each other?', 'section_summary': 'Here is a summary of the key topics and entities in this section:\\n\\n**Key Topics:**\\n\\n1. The \"Boat\" piece of furniture in the game.\\n2. Obtaining the \"Boat\" through fishing at the Beach Farm.\\n\\n**Entities:**\\n\\n1. The Beach Farm, a location on the farm map.\\n2. Fishing, an activity that can be done on the farm.\\n3. The Furniture Catalogue, where certain items may be available for purchase.\\n\\nLet me know if you\\'d like me to help with anything else!'}, excluded_embed_metadata_keys=[], excluded_llm_metadata_keys=[], relationships={<NodeRelationship.SOURCE: '1'>: RelatedNodeInfo(node_id='3dbc062f-2ff9-4059-8303-0333217384a6', node_type=<ObjectType.DOCUMENT: '4'>, metadata={'Page Title': \"'Boat'\"}, hash='c71098bf9c017fa9f97523292f535eab301ac68e080b34dbcbba2a4ae0b34c68'), <NodeRelationship.NEXT: '3'>: RelatedNodeInfo(node_id='a003c575-7355-447b-a316-1c5d5fefa9fc', node_type=<ObjectType.TEXT: '1'>, metadata={}, hash='1185a46789e10b1f31502b6b425fea824aba380257f3336f877d36acca24e236')}, text='{{Infobox furniture\\n|os = [[Fishing]] at the southwest spot in the [[Farm Maps#Beach|Beach Farm]]\\n|showheader = n\\n}}\\n\\'\\'\\'\\'Boat\\'\\'\\'\\' is a piece of [[furniture]] that hangs on a wall. It can be obtained by [[Fishing#Presents|fishing]] at the southwest spot of the [[Farm Maps#Beach|Beach Farm]].\\n\\nThis spot can be accessed at the left of the southwest pond. There is a hidden path downwards that gives access to the sea. The first time fishing there will always result in obtaining the painting.<ref name=\"boatchance\" /> Only one painting can be obtained per player per game.\\n\\nIt is not available from the [[Furniture Catalogue]].\\n\\n[[File:\\'Boat\\' Location.png|thumb|left|Location]]\\n{{clear}}', start_char_idx=0, end_char_idx=686, text_template='[Excerpt from document]\\n{metadata_str}\\nExcerpt:\\n-----\\n{content}\\n-----\\n', metadata_template='{key}: {value}', metadata_seperator='\\n'),\n",
       " TextNode(id_='a003c575-7355-447b-a316-1c5d5fefa9fc', embedding=None, metadata={'Page Title': \"'Boat'\", 'questions_this_excerpt_can_answer': 'Based on the given context, here are five potential questions that this context can specifically answer:\\n\\n1. What is the location of the \"Boat\"?\\nAnswer: The context provides a thumbnail image with the label \"Location\" and the filename \"Location.png\", which suggests that the \"Boat\" is located somewhere.\\n\\n2. Is the \"Boat\" available in the [[Furniture Catalogue]]?\\nAnswer: No, according to the context, it is not available from the [[Furniture Catalogue]].\\n\\n3. What are some possible sources of information about the \"Boat\"?\\nAnswer: The context mentions a reference to \"Data\\\\Locations.xnb\" and provides a link to \"Data\\\\Locations.xnb\", which suggests that this file contains relevant information about the \"Boat\".\\n\\n4. When was the \"Boat\" introduced or created?\\nAnswer: According to the {{History}} template, the \"Boat\" was introduced 1.5 versions ago.\\n\\n5. What is the purpose or significance of the \"Boat\"?\\nAnswer: Unfortunately, there is no explicit information about the purpose or significance of the \"Boat\", but it may be related to its location and any possible connections to data or locations.\\n\\nHigher-level summaries that can help generate better questions:\\n\\n* The context appears to be a part of a larger catalog or database system, possibly involving furniture or objects with specific locations.\\n* There may be additional information about the \"Boat\" in other files or sections not yet mentioned.\\n* The context seems to emphasize the importance of location and data, which could lead to more questions about the relationships between these concepts.\\n\\nExample questions that can be generated using these summaries:\\n\\n* What is the relationship between the \"Boat\" and its location?\\n* Are there any other objects or furniture in this catalog with similar locations or properties?\\n* How does the \"Boat\" fit into a larger system of data or cataloging?', 'section_summary': 'The section discusses a topic called \"Boat\" in the context of a larger catalog or database system, possibly involving furniture or objects with specific locations. The key topics and entities are:\\n\\n* The \"Boat\" itself, which is not available from the \"Furniture Catalogue\"\\n* Its location, which is shown in a thumbnail image labeled \"Location\" (filename: \"Location.png\")\\n* Data\\\\Locations.xnb, a file mentioned as a reference source for more information about the \"Boat\"\\n* The \"History\" of the \"Boat\", which indicates it was introduced 1.5 versions ago\\n\\nOverall, the section appears to be focused on providing context and references related to the \"Boat\", with an emphasis on its location and potential connections to data or locations.'}, excluded_embed_metadata_keys=[], excluded_llm_metadata_keys=[], relationships={<NodeRelationship.SOURCE: '1'>: RelatedNodeInfo(node_id='3dbc062f-2ff9-4059-8303-0333217384a6', node_type=<ObjectType.DOCUMENT: '4'>, metadata={'Page Title': \"'Boat'\"}, hash='c71098bf9c017fa9f97523292f535eab301ac68e080b34dbcbba2a4ae0b34c68'), <NodeRelationship.PREVIOUS: '2'>: RelatedNodeInfo(node_id='131081f9-f756-4a86-97da-d85f1c47c56d', node_type=<ObjectType.TEXT: '1'>, metadata={'Page Title': \"'Boat'\"}, hash='a32cbcfe7b8e47573a66a99bc7c75fd6020031b640bbafe36371c9e8f65a63c7')}, text='It is not available from the [[Furniture Catalogue]].\\n\\n[[File:\\'Boat\\' Location.png|thumb|left|Location]]\\n{{clear}}\\n\\n==References==\\n<references>\\n    <ref name=\"boatchance\">See <samp>Data\\\\Locations.xnb</samp>.</ref>\\n</references>\\n\\n==History==\\n{{History|1.5|Introduced.}}\\n\\n{{NavboxFurniture}}', start_char_idx=573, end_char_idx=861, text_template='[Excerpt from document]\\n{metadata_str}\\nExcerpt:\\n-----\\n{content}\\n-----\\n', metadata_template='{key}: {value}', metadata_seperator='\\n'),\n",
       " TextNode(id_='7e8131ec-f20d-4789-89d7-de49ed9c91b4', embedding=None, metadata={'Page Title': \"'Bulletin Board'\", 'questions_this_excerpt_can_answer': 'Here are 5 questions that this context can provide specific answers to:\\n\\n1. What is the name of the catalogue from which the \"Bulletin Board\" piece of wall decor can be purchased?\\nAnswer: Junimo Catalogue.\\n\\n2. When was the \"Bulletin Board\" introduced in-game?\\nAnswer: Introduced in version 1.6.\\n\\n3. What is a brief description of the \"Bulletin Board\"?\\nAnswer: (This question would require an expansion of the existing {{Description|furniture}} template, but it could provide a concise summary of what the Bulletin Board looks like or its intended use.)\\n\\n4. Is the \"Bulletin Board\" available in other furniture catalogues besides Junimo Catalogue?\\nAnswer: No, according to the context.\\n\\n5. What type of item is the \"Bulletin Board\" classified as? (Given that it\\'s listed under a \"Furniture\" infobox.)\\nAnswer: It is classified as wall decor or a piece of furniture.\\n\\nAs for higher-level summaries and potential questions that could be generated from surrounding context:\\n\\n* The Junimo Catalogue seems to be a source of unique furniture items, possibly with whimsical or fantastical designs. Questions could explore the themes or tone of this catalogue.\\n* The game may have other bulletin board-like items or systems for sharing information or notes between characters. Questions could investigate these mechanisms.\\n\\nThese summaries might lead to questions like:\\n\\n* What kind of items can be found in the Junimo Catalogue, and what\\'s the general aesthetic or theme of this collection?\\n* How do players interact with bulletin boards or similar systems within the game?', 'section_summary': \"Here is a summary of the key topics and entities in this section:\\n\\n**Key Topics:**\\n\\n* Bulletin Board, a piece of wall decor from Junimo Catalogue\\n* Junimo Catalogue, a source of unique furniture items with whimsical or fantastical designs\\n\\n**Entities:**\\n\\n* Bulletin Board (furniture)\\n* Junimo Catalogue (furniture catalogue)\\n\\nLet me know if you'd like me to help with anything else!\"}, excluded_embed_metadata_keys=[], excluded_llm_metadata_keys=[], relationships={<NodeRelationship.SOURCE: '1'>: RelatedNodeInfo(node_id='31cd0a6b-73e0-4ede-9259-a8b5412cf747', node_type=<ObjectType.DOCUMENT: '4'>, metadata={'Page Title': \"'Bulletin Board'\"}, hash='f937abc493859fc13eb97f9abfb2b1bb1d508b3a085f0a2c2dad0c283fea40ed')}, text=\"{{Spoiler}}\\n{{Infobox furniture\\n|os = [[Junimo Catalogue]]\\n|description = {{Description|furniture}}\\n}}\\n''''Bulletin Board'''' is a piece of wall decor available from the [[Junimo Catalogue]].\\n\\n==History==\\n{{History|1.6|Introduced.}}\\n\\n{{NavboxFurniture}}\", start_char_idx=0, end_char_idx=253, text_template='[Excerpt from document]\\n{metadata_str}\\nExcerpt:\\n-----\\n{content}\\n-----\\n', metadata_template='{key}: {value}', metadata_seperator='\\n'),\n",
       " TextNode(id_='71dee84b-d371-4ce5-82aa-1d0d91692a53', embedding=None, metadata={'Page Title': \"'Burnt Offering'\", 'questions_this_excerpt_can_answer': \"Based on the given context, here are five questions that this context can provide specific answers to:\\n\\n1. What is the exact combination of Artifacts required to obtain the 'Burnt Offering' piece of furniture?\\n(This context provides a list of 11 Artifacts, including Rare Disc and Dwarf Gadget, which can be used to answer this question.)\\n\\n2. How much does it cost to purchase the 'Burnt Offering' in the Casino?\\n(The Price|4000|Qi) tag suggests that the answer is 4000 Qi.\\n\\n3. In what location can you donate Artifacts to obtain the 'Burnt Offering' piece of furniture?\\n(This context mentions the Museum as the location where you can donate Artifacts.)\\n\\n4. What are some possible items or objects that could be part of the 'Burnt Offering' package, given its description as a piece of furniture that hangs on a wall?\\n(The question is open-ended, but based on the description, answers might include decorative items, wall hangings, or other types of furniture that fit the context.)\\n\\n5. What is the significance or purpose of the 'Burnt Offering' in the larger game universe?\\n(This context provides historical information about the item's introduction (1.0), which could be used to generate more questions about its role in the game world. For example, what kind of event or update led to its introduction? Is it a rare or unique item?)\\n\\nHigher-level summaries of surrounding context that could help generate better questions:\\n\\n* The game appears to have a strong focus on collecting and trading items (Artifacts) for decorative purposes (furniture).\\n* There may be multiple locations where players can obtain or trade items, including the Museum and Casino.\\n* The game has an update history, suggesting that new content is being added regularly.\\n\\nThese summaries could lead to questions about the overall mechanics of the game, such as:\\n\\n* What other types of furniture are available in the game?\\n* Are there any limitations or restrictions on what Artifacts can be traded for which items?\\n* How do updates and new content affect gameplay and item availability?\", 'section_summary': 'The section is about a piece of furniture called \"Burnt Offering\" in a game that involves collecting and trading items (Artifacts) for decorative purposes. The key topics and entities include:\\n\\n* Burnt Offering, a piece of furniture that hangs on a wall\\n* Artifacts, which are 11 specific items including Rare Disc and Dwarf Gadget\\n* Museum, where Artifacts can be donated to obtain the Burnt Offering\\n* Casino, where the Burnt Offering can be purchased for 4000 Qi\\n* History, with information about when the Burnt Offering was introduced (1.0)'}, excluded_embed_metadata_keys=[], excluded_llm_metadata_keys=[], relationships={<NodeRelationship.SOURCE: '1'>: RelatedNodeInfo(node_id='15c8ce5a-ebf8-45d9-a8b5-cf7c0db8925b', node_type=<ObjectType.DOCUMENT: '4'>, metadata={'Page Title': \"'Burnt Offering'\"}, hash='93ecc4566b9b818f083e81b137923eae95a33b99c50dcb9174028ab6dc4d6434')}, text=\"{{Infobox furniture\\n|qi = 4000\\n|mu = 11 [[Artifacts]] that include {{name|Rare Disc|class=inline}} and {{name|Dwarf Gadget}}\\n}}\\n''''Burnt Offering'''' is a piece of [[furniture]] that hangs on a wall. It can be obtained by donating 11 [[Artifacts]] that include the [[Rare Disc]] and [[Dwarf Gadget]] to the [[Museum]].  \\n\\nIt can also be purchased in the [[Casino]] for {{Price|4000|Qi}}.\\n\\n==History==\\n{{History|1.0|Introduced.}}\\n\\n{{NavboxFurniture}}\", start_char_idx=0, end_char_idx=450, text_template='[Excerpt from document]\\n{metadata_str}\\nExcerpt:\\n-----\\n{content}\\n-----\\n', metadata_template='{key}: {value}', metadata_seperator='\\n'),\n",
       " TextNode(id_='09369b73-4005-4666-998b-9d8ceae8152f', embedding=None, metadata={'Page Title': \"'Checkers'\", 'questions_this_excerpt_can_answer': 'Based on the given context, here are five potential questions that this context can provide specific answers to:\\n\\n1. What is the name of the painting available from the Retro Catalogue?\\nAnswer: Checkers\\n\\n2. In what version was the Checkers painting first introduced?\\nAnswer: 1.6 (according to the History section)\\n\\n3. Is the Checkers painting a type of furniture item?\\nAnswer: Yes, according to the Infobox furniture and the NavboxFurniture sections\\n\\n4. What is the purpose of the Spoiler template in this context?\\nAnswer: To indicate that the following content contains spoilers or sensitive information (although it seems that this template is not being used for its intended purpose)\\n\\n5. What kind of catalogue offers the Checkers painting as an item?\\nAnswer: The Retro Catalogue\\n\\nAs for higher-level summaries, one possible summary could be:\\n\\nThe context appears to be describing a virtual world or game where players can collect and trade items, including furniture. The Retro Catalogue seems to offer a selection of items that have been previously introduced in earlier versions of the game.\\n\\nUsing this summary, additional questions that this context can answer might include:\\n\\n* What is the theme or genre of the game?\\n* Can players use the Checkers painting for decorative purposes or as a functional item within the game world?\\n* Are there any other items available from the Retro Catalogue that are similar to the Checkers painting?', 'section_summary': 'The section appears to be describing a virtual world or game where players can collect and trade items, including furniture. The key topics and entities mentioned in this section are:\\n\\n* \"Checkers\" painting: a furniture item available from the Retro Catalogue.\\n* Retro Catalogue: a catalogue that offers previously introduced items from earlier versions of the game.\\n* History: the context provides information about when the Checkers painting was first introduced (version 1.6).\\n\\nThe section also mentions templates and boxes, such as the Spoiler template and NavboxFurniture, which seem to be used for organizing and formatting content within the page.'}, excluded_embed_metadata_keys=[], excluded_llm_metadata_keys=[], relationships={<NodeRelationship.SOURCE: '1'>: RelatedNodeInfo(node_id='06e6e370-10bb-45db-918e-967ad470e1c4', node_type=<ObjectType.DOCUMENT: '4'>, metadata={'Page Title': \"'Checkers'\"}, hash='28a7169064a763e136361feef292729921d1016a4f58329f1ae0a9be0bc2a703')}, text=\"{{Spoiler}}\\n{{Infobox furniture\\n|os = [[Retro Catalogue]]\\n|description = {{Description|furniture}}\\n}}\\nThe ''''Checkers'''' painting is a [[furniture]] item available from the [[Retro Catalogue]].\\n\\n==History==\\n{{History|1.6|Introduced.}}\\n\\n{{NavboxFurniture}}\", start_char_idx=0, end_char_idx=257, text_template='[Excerpt from document]\\n{metadata_str}\\nExcerpt:\\n-----\\n{content}\\n-----\\n', metadata_template='{key}: {value}', metadata_seperator='\\n')]"
      ]
     },
     "execution_count": 5,
     "metadata": {},
     "output_type": "execute_result"
    }
   ],
   "source": [
    "nodes"
   ]
  },
  {
   "cell_type": "code",
   "execution_count": 8,
   "metadata": {},
   "outputs": [
    {
     "name": "stdout",
     "output_type": "stream",
     "text": [
      "[Excerpt from document]\n",
      "Page Title: 'Abstract'\n",
      "questions_this_excerpt_can_answer: Based on the given context, here are five potential questions that this text can provide specific answers to:\n",
      "\n",
      "1. What is the name of the painting featured in the Retro Catalogue?\n",
      "\n",
      "Answer: The \"Abstract\" painting.\n",
      "\n",
      "2. When was the \"Abstract\" painting introduced in the game?\n",
      "\n",
      "Answer: According to the History section, it was introduced in version 1.6.\n",
      "\n",
      "3. Is the \"Abstract\" painting a type of furniture item?\n",
      "\n",
      "Answer: Yes, according to the Infobox furniture and the text description, the \"Abstract\" painting is a furniture item.\n",
      "\n",
      "4. Where can you find the \"Abstract\" painting in the game?\n",
      "\n",
      "Answer: You can find it in the Retro Catalogue.\n",
      "\n",
      "5. What is the description of the \"Abstract\" painting provided in-game?\n",
      "\n",
      "Answer: The description is not explicitly stated in the given text, but according to the Infobox furniture, it provides a link to the {{Description|furniture}} template, which likely contains the description.\n",
      "\n",
      "As for higher-level summaries and potential questions that this context can answer:\n",
      "\n",
      "* This text appears to be part of a larger database or wiki related to an online game or simulation.\n",
      "* The Retro Catalogue seems to be a central hub for purchasing or acquiring various items in the game.\n",
      "* The furniture item category may include other decorative or functional objects, such as chairs, tables, or vases.\n",
      "\n",
      "Some potential follow-up questions could include:\n",
      "\n",
      "* What other types of items can you find in the Retro Catalogue?\n",
      "* Are there any specific requirements or restrictions for purchasing certain furniture items?\n",
      "* Can you customize or decorate your virtual space with these furniture items?\n",
      "\n",
      "These higher-level summaries and potential questions can help generate more context-specific inquiries that this text can answer.\n",
      "section_summary: Here is a summary of the key topics and entities in this section:\n",
      "\n",
      "**Key Topics:**\n",
      "\n",
      "* The \"Abstract\" painting, a furniture item available from the Retro Catalogue.\n",
      "* History of the painting's introduction.\n",
      "\n",
      "**Entities:**\n",
      "\n",
      "* The \"Abstract\" painting (a furniture item)\n",
      "* Retro Catalogue (a hub for purchasing or acquiring items)\n",
      "* Furniture category (includes decorative and functional objects)\n",
      "\n",
      "Let me know if you'd like me to help with anything else!\n",
      "Excerpt:\n",
      "-----\n",
      "{{Spoiler}}\n",
      "{{Infobox furniture\n",
      "|os = [[Retro Catalogue]]\n",
      "|description = {{Description|furniture}}\n",
      "}}\n",
      "The ''''Abstract'''' painting is a [[furniture]] item available from the [[Retro Catalogue]].\n",
      "\n",
      "==History==\n",
      "{{History|1.6|Introduced.}}\n",
      "\n",
      "{{NavboxFurniture}}\n",
      "-----\n"
     ]
    }
   ],
   "source": [
    "print(nodes[2].get_content(metadata_mode=\"all\"))"
   ]
  },
  {
   "cell_type": "code",
   "execution_count": null,
   "metadata": {},
   "outputs": [],
   "source": []
  }
 ],
 "metadata": {
  "kernelspec": {
   "display_name": ".venv",
   "language": "python",
   "name": "python3"
  },
  "language_info": {
   "codemirror_mode": {
    "name": "ipython",
    "version": 3
   },
   "file_extension": ".py",
   "mimetype": "text/x-python",
   "name": "python",
   "nbconvert_exporter": "python",
   "pygments_lexer": "ipython3",
   "version": "3.11.0"
  }
 },
 "nbformat": 4,
 "nbformat_minor": 2
}
