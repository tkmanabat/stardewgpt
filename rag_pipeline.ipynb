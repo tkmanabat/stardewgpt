{
 "cells": [
  {
   "cell_type": "code",
   "execution_count": 35,
   "metadata": {},
   "outputs": [],
   "source": [
    "#https://python.langchain.com/docs/integrations/document_loaders/mediawikidump/\n",
    "\n",
    "from langchain_community.document_loaders import MWDumpLoader\n",
    "loader = MWDumpLoader(\n",
    "    file_path=\"stardewvalleywiki.com_mediawiki-20240505-wikidump\\stardewvalleywiki.com_mediawiki-20240505-current.xml\",\n",
    "    encoding=\"utf-8\",\n",
    "    skip_redirects=True,\n",
    "    stop_on_error=True,\n",
    ")\n",
    "\n",
    "#does not export the fricking price \n",
    "# documents=[doc.page_content for doc in loader.load()]\n",
    "\n",
    "documents=loader.load()\n"
   ]
  },
  {
   "cell_type": "code",
   "execution_count": 1,
   "metadata": {},
   "outputs": [],
   "source": [
    "#https://github.com/earwig/mwparserfromhell\n",
    "import mwxml\n",
    "import mwparserfromhell\n",
    "from langchain_core.documents import Document\n",
    "\n",
    "\n",
    "stardew_wiki_dump = mwxml.Dump.from_file(open(\"stardewvalleywiki.com_mediawiki-20240505-wikidump\\stardewvalleywiki.com_mediawiki-20240505-current.xml\", encoding=\"utf-8\"))\n",
    "\n",
    "documents=[]\n",
    "\n",
    "def load_single_page_from_dump(page):\n",
    "    for revision in page:\n",
    "        code = mwparserfromhell.parse(revision.text)\n",
    "        text= code.strip_code(\n",
    "            normalize=True, collapse=True, keep_template_params=True\n",
    "        )\n",
    "        metadata = {\"source\":page.title}\n",
    "        text=text.split('Category')[0]\n",
    "        return Document(page_content=text, metadata=metadata)\n",
    "\n",
    "for page in stardew_wiki_dump.pages:\n",
    "    if not page.redirect:\n",
    "        documents.append(load_single_page_from_dump(page))\n",
    "\n",
    "\n",
    "\n",
    "# print(documents[2].page_content)\n"
   ]
  },
  {
   "cell_type": "code",
   "execution_count": 2,
   "metadata": {},
   "outputs": [
    {
     "name": "stderr",
     "output_type": "stream",
     "text": [
      "d:\\User\\Documents - Data Drive\\Kyle\\Projects\\Misc\\StardewGPT\\.venv\\Lib\\site-packages\\tqdm\\auto.py:21: TqdmWarning: IProgress not found. Please update jupyter and ipywidgets. See https://ipywidgets.readthedocs.io/en/stable/user_install.html\n",
      "  from .autonotebook import tqdm as notebook_tqdm\n"
     ]
    }
   ],
   "source": [
    "from langchain.text_splitter import RecursiveCharacterTextSplitter\n",
    "from typing import Any\n",
    "from tqdm.contrib.concurrent import process_map\n",
    "\n",
    "\n",
    "\n",
    "splitter = RecursiveCharacterTextSplitter(\n",
    "    add_start_index=True,\n",
    "    chunk_size=1000,\n",
    "    is_separator_regex=True,\n",
    "    separators = [r\"\\w(=){3}\\n\", r\"\\w(=){2}\\n\", r\"\\n\\n\", r\"\\n\", r\"\\s\"],\n",
    "    # keep_seperator=False\n",
    ")\n",
    "\n",
    "# documents=splitter.create_documents(documents)\n",
    "documents=splitter.split_documents(documents)"
   ]
  },
  {
   "cell_type": "code",
   "execution_count": 3,
   "metadata": {},
   "outputs": [],
   "source": [
    "from langchain_community.embeddings import OllamaEmbeddings\n",
    "ollama_emb = OllamaEmbeddings(\n",
    "    # model=\"llama3\",\n",
    "    model='nomic-embed-text'\n",
    ")\n",
    "# print(ollama_emb.embed_query('This is a test document'))\n",
    "\n"
   ]
  },
  {
   "cell_type": "code",
   "execution_count": 4,
   "metadata": {},
   "outputs": [],
   "source": [
    "#4mins on ollama embeddings\n",
    "documents=documents[:100]"
   ]
  },
  {
   "cell_type": "code",
   "execution_count": 20,
   "metadata": {},
   "outputs": [
    {
     "name": "stderr",
     "output_type": "stream",
     "text": [
      "A new version of the following files was downloaded from https://huggingface.co/Alibaba-NLP/new-impl:\n",
      "- configuration.py\n",
      ". Make sure to double-check they do not contain any added malicious code. To avoid downloading new versions of the code file, you can pin a revision.\n",
      "A new version of the following files was downloaded from https://huggingface.co/Alibaba-NLP/new-impl:\n",
      "- modeling.py\n",
      ". Make sure to double-check they do not contain any added malicious code. To avoid downloading new versions of the code file, you can pin a revision.\n",
      "d:\\User\\Documents - Data Drive\\Kyle\\Projects\\Misc\\StardewGPT\\.venv\\Lib\\site-packages\\huggingface_hub\\file_download.py:1132: FutureWarning: `resume_download` is deprecated and will be removed in version 1.0.0. Downloads always resume when possible. If you want to force a new download, use `force_download=True`.\n",
      "  warnings.warn(\n"
     ]
    }
   ],
   "source": [
    "from sentence_transformers import SentenceTransformer\n",
    "\n",
    "\n",
    "model = SentenceTransformer('Alibaba-NLP/gte-large-en-v1.5', trust_remote_code=True)\n",
    "embeddings=model.encode([doc.page_content for doc in documents])"
   ]
  },
  {
   "cell_type": "code",
   "execution_count": 5,
   "metadata": {},
   "outputs": [],
   "source": [
    "from langchain_chroma import Chroma \n",
    "\n",
    "vector_db = Chroma.from_documents(documents, ollama_emb,persist_directory='db')\n",
    "# vector_db = Chroma.from_documents(embeddings,persist_directory='db')"
   ]
  },
  {
   "cell_type": "code",
   "execution_count": 7,
   "metadata": {},
   "outputs": [
    {
     "name": "stdout",
     "output_type": "stream",
     "text": [
      "250  y  y\n",
      "Note: This article is about the furniture. For the crop see the Blueberry page.\n",
      "\n",
      "'Blueberries' is a piece of furniture that hangs on a wall. It can rotate into daily stock at the Carpenter's Shop for 250 or the Traveling Cart for between furniture.\n",
      "\n",
      "It's also available from the Furniture Catalogue for 0.\n",
      "\n",
      "Position\n",
      "Note that some small paintings hang higher or lower on the wall than others.\n",
      "\n",
      "File:SmallPaintingsPosition.png\n",
      "\n",
      "History\n",
      "1.0 Introduced.\n"
     ]
    }
   ],
   "source": [
    "query = '1000 years from now'\n",
    "docs = vector_db.similarity_search(query)\n",
    "\n",
    "#trash results, next to fix \n",
    "# print(docs[0].page_content)"
   ]
  },
  {
   "cell_type": "code",
   "execution_count": 6,
   "metadata": {},
   "outputs": [
    {
     "name": "stderr",
     "output_type": "stream",
     "text": [
      "d:\\User\\Documents - Data Drive\\Kyle\\Projects\\Misc\\StardewGPT\\.venv\\Lib\\site-packages\\langchain_core\\_api\\deprecation.py:119: LangChainDeprecationWarning: The method `BaseRetriever.get_relevant_documents` was deprecated in langchain-core 0.1.46 and will be removed in 0.3.0. Use invoke instead.\n",
      "  warn_deprecated(\n"
     ]
    },
    {
     "data": {
      "text/plain": [
       "[Document(page_content=\"20 items\\n'A Night On Eco-Hill' is a piece of furniture that hangs on a wall.  It can be obtained only by donating 20 items to the Museum.\\n\\nHistory\\n1.0 Introduced.\", metadata={'source': \"'A Night On Eco-Hill'\", 'start_index': 1}),\n",
       " Document(page_content=\"Magic Rock Candy\\nOh, wow... (Name)! Are you sure you want to give this to me? It's so rare!\\nI'll admit, my mouth is watering already...\\n\\nMonster Compendium\\nWhoa, that's a creepy looking book... I love it!*Flip* *flip* *flip*... Ooh... It's full of monsters...I'll have to study this before going into the caves... Thanks!\\n\\nStardrop Tea\\nWow... the color is so beautiful, like an amethyst. Thanks!\\n\\nImageNameDescriptionSourceIngredients 48px|center All Universal LovescenterAmethystAmethystMiningcenterBanana PuddingBanana PuddingCookingBanana 1Milk 1Sugar 1centerBlackberry CobblerBlackberry CobblerCookingBlackberry 2Sugar 1Wheat Flour 1centerChocolate CakeChocolate CakeCookingWheat Flour 1Sugar 1Egg 1centerMonster CompendiumMonster CompendiumBookscenterPufferfishPufferfishFishingcenterPumpkinPumpkinFarmingcenterSpicy EelSpicy EelCookingEel 1Hot Pepper 1\\n\\nLike\\nHey, how'd you know I was hungry? This looks delicious!\", metadata={'source': 'Abigail', 'start_index': 10091}),\n",
       " Document(page_content=\"Like\\nHey, how'd you know I was hungry? This looks delicious!\\n\\nNote that Abigail will say this even when given a liked gift that is not a Food item.\\n\\nAncient Sword\\nWhoa... Where'd you find this? The workmanship is fascinating...\\nIt's a little too rusty to use, but I'll add it to my collection.\\n\\nBasilisk Paw\\nDisgusting... I love it!\\n\\nBone Flute\\nThis makes you wonder... Thousands of years ago, there was probably a little purple-haired cavewoman who played this flute, just like me.\\n...I'll have to wash it before pressing it to my lips, though.\\n\\nCombat Quarterly\\nHey, this is my favorite magazine! My Dad won't let me have a subscription, so I have to get it on the black market like this...\\n\\nImageNameDescriptionSource 48px|center All Universal Likes (except Vegetables)centerAncient SwordAncient SwordArtifactscenterBasilisk PawBasilisk PawTrinketscenterBone FluteBone FluteArtifactscenterCombat QuarterlyCombat QuarterlyBookscenterQuartzQuartzForaging - The Mines\", metadata={'source': 'Abigail', 'start_index': 10951}),\n",
       " Document(page_content=\"Fridays:\\nWow, I just realized it's Friday.  Sometimes I totally lose track of time.\\nWe're all going to hang out in the saloon this evening. It's kind of like a Friday tradition, I guess.\\n\\nSundays:\\nOh man... I've been pushing off my homework all weekend. Looks like I'll be pulling another all-nighter...\\n\\nWhen the townsfolk are using the altar room\\nWe're hiding in here so we don't have to talk to anyone\\n\\nIf sold low quality crops to Pierre\\nHey. We had one of those [items] you sold at the shop for dinner last night... I guess it was starting to go bad and my Dad couldn't bear to throw it out. Unfortunately it tasted like [adjective].\\n\\nIf sold high quality crops to Pierre\\nHey. We had one of those [items] you sold at the shop for dinner last night... I guess it was starting to go bad and my Dad couldn't bear to throw it out. It was still pretty good, though.\", metadata={'source': 'Abigail', 'start_index': 20984})]"
      ]
     },
     "execution_count": 6,
     "metadata": {},
     "output_type": "execute_result"
    }
   ],
   "source": [
    "retriever = vector_db.as_retriever()\n",
    "\n",
    "query='A Night On Eco-Hill'\n",
    "retriever.get_relevant_documents(query)"
   ]
  },
  {
   "cell_type": "code",
   "execution_count": 7,
   "metadata": {},
   "outputs": [],
   "source": [
    "from langchain import hub\n",
    "from langchain_core.output_parsers import StrOutputParser\n",
    "from langchain_core.runnables import RunnablePassthrough\n",
    "from langchain_community.llms import Ollama\n",
    "\n",
    "llm = Ollama(model=\"llama3\")\n",
    "\n",
    "\n",
    "prompt = hub.pull(\"rlm/rag-prompt\")\n",
    "\n",
    "def format_docs(docs):\n",
    "    return \"\\n\\n\".join(doc.page_content for doc in docs)\n",
    "\n",
    "\n",
    "rag_chain = (\n",
    "    {\"context\": retriever | format_docs, \"question\": RunnablePassthrough()}\n",
    "    | prompt\n",
    "    | llm\n",
    "    | StrOutputParser()\n",
    ")\n"
   ]
  },
  {
   "cell_type": "code",
   "execution_count": 8,
   "metadata": {},
   "outputs": [
    {
     "data": {
      "text/plain": [
       "'You can get \"A Night On Eco-Hill\" by donating 20 items to the Museum.'"
      ]
     },
     "execution_count": 8,
     "metadata": {},
     "output_type": "execute_result"
    }
   ],
   "source": [
    "rag_chain.invoke(\"Where could you get the A night on eco hill painting?\")"
   ]
  },
  {
   "cell_type": "code",
   "execution_count": 21,
   "metadata": {},
   "outputs": [],
   "source": [
    "# from langchain_community.llms import Ollama\n",
    "\n",
    "# llm = Ollama(model=\"llama3\")\n",
    "\n",
    "# llm.invoke(\"Tell me a joke\")"
   ]
  },
  {
   "cell_type": "code",
   "execution_count": null,
   "metadata": {},
   "outputs": [],
   "source": []
  }
 ],
 "metadata": {
  "kernelspec": {
   "display_name": ".venv",
   "language": "python",
   "name": "python3"
  },
  "language_info": {
   "codemirror_mode": {
    "name": "ipython",
    "version": 3
   },
   "file_extension": ".py",
   "mimetype": "text/x-python",
   "name": "python",
   "nbconvert_exporter": "python",
   "pygments_lexer": "ipython3",
   "version": "3.11.0"
  }
 },
 "nbformat": 4,
 "nbformat_minor": 2
}
