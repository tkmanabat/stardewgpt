{
 "cells": [
  {
   "cell_type": "code",
   "execution_count": 35,
   "metadata": {},
   "outputs": [],
   "source": [
    "#https://python.langchain.com/docs/integrations/document_loaders/mediawikidump/\n",
    "\n",
    "from langchain_community.document_loaders import MWDumpLoader\n",
    "loader = MWDumpLoader(\n",
    "    file_path=\"stardewvalleywiki.com_mediawiki-20240505-wikidump\\stardewvalleywiki.com_mediawiki-20240505-current.xml\",\n",
    "    encoding=\"utf-8\",\n",
    "    skip_redirects=True,\n",
    "    stop_on_error=True,\n",
    ")\n",
    "\n",
    "#does not export the fricking price \n",
    "# documents=[doc.page_content for doc in loader.load()]\n",
    "\n",
    "documents=loader.load()\n"
   ]
  },
  {
   "cell_type": "code",
   "execution_count": 29,
   "metadata": {},
   "outputs": [
    {
     "name": "stderr",
     "output_type": "stream",
     "text": [
      "2829it [00:17, 163.91it/s]\n"
     ]
    }
   ],
   "source": [
    "#https://github.com/earwig/mwparserfromhell\n",
    "import mwxml\n",
    "import mwparserfromhell\n",
    "from langchain_core.documents import Document\n",
    "from tqdm import tqdm\n",
    "\n",
    "\n",
    "\n",
    "stardew_wiki_dump = mwxml.Dump.from_file(open(\"stardewvalleywiki.com_mediawiki-20240505-wikidump\\stardewvalleywiki.com_mediawiki-20240505-current.xml\", encoding=\"utf-8\"))\n",
    "\n",
    "documents=[]\n",
    "\n",
    "\n",
    "def load_single_page_from_dump(page,i):\n",
    "    for revision in page:\n",
    "        code = mwparserfromhell.parse(revision.text)\n",
    "        text= code.strip_code(\n",
    "            normalize=True, collapse=True, keep_template_params=True\n",
    "        )\n",
    "        metadata = {\"source\":page.title}\n",
    "        text=text.split('Category')[0]\n",
    "        return Document(page_content=text, metadata=metadata)\n",
    "\n",
    "for page in tqdm(stardew_wiki_dump.pages):\n",
    "    if not page.redirect:\n",
    "        documents.append(load_single_page_from_dump(page))\n"
   ]
  },
  {
   "cell_type": "code",
   "execution_count": 30,
   "metadata": {},
   "outputs": [],
   "source": [
    "from langchain.text_splitter import RecursiveCharacterTextSplitter\n",
    "from typing import Any\n",
    "from tqdm.contrib.concurrent import process_map\n",
    "\n",
    "\n",
    "\n",
    "splitter = RecursiveCharacterTextSplitter(\n",
    "    add_start_index=True,\n",
    "    chunk_size=1000,\n",
    "    is_separator_regex=True,\n",
    "    separators = [r\"\\w(=){3}\\n\", r\"\\w(=){2}\\n\", r\"\\n\\n\", r\"\\n\", r\"\\s\"],\n",
    "    # keep_seperator=False\n",
    ")\n",
    "\n",
    "# documents=splitter.create_documents(documents)\n",
    "documents=splitter.split_documents(documents)"
   ]
  },
  {
   "cell_type": "code",
   "execution_count": 31,
   "metadata": {},
   "outputs": [
    {
     "name": "stderr",
     "output_type": "stream",
     "text": [
      "d:\\User\\Documents - Data Drive\\Kyle\\Projects\\Misc\\StardewGPT\\.venv\\Lib\\site-packages\\huggingface_hub\\file_download.py:1132: FutureWarning: `resume_download` is deprecated and will be removed in version 1.0.0. Downloads always resume when possible. If you want to force a new download, use `force_download=True`.\n",
      "  warnings.warn(\n",
      "d:\\User\\Documents - Data Drive\\Kyle\\Projects\\Misc\\StardewGPT\\.venv\\Lib\\site-packages\\huggingface_hub\\file_download.py:1132: FutureWarning: `resume_download` is deprecated and will be removed in version 1.0.0. Downloads always resume when possible. If you want to force a new download, use `force_download=True`.\n",
      "  warnings.warn(\n"
     ]
    }
   ],
   "source": [
    "from langchain.embeddings.sentence_transformer import SentenceTransformerEmbeddings\n",
    "\n",
    "embedding_function = SentenceTransformerEmbeddings(\n",
    "    model_name=\"all-MiniLM-L6-v2\")"
   ]
  },
  {
   "cell_type": "code",
   "execution_count": 32,
   "metadata": {},
   "outputs": [],
   "source": [
    "from langchain_chroma import Chroma \n",
    "vector_db = Chroma.from_documents(documents, embedding_function,persist_directory='db')"
   ]
  },
  {
   "cell_type": "code",
   "execution_count": 49,
   "metadata": {},
   "outputs": [
    {
     "data": {
      "text/plain": [
       "[Document(page_content='Abigail warns the player to be more careful in the future, saying \"I don\\'t want to lose you.\" Then, she buries the monster and marks the grave with the symbol of Yoba. \\nInteracting with the grave displays the text: \"Abigail took a life to save mine...I\\'ll never forget that.\"\\n\\nIf you go home and talk to Abigail the same day as the event she\\'ll say: \"Good thing I brought my sword today!\"\\n\\nMarriage\\nMarriage\\nOnce married, Abigail will move into the farmhouse. Like other marriage candidates, she will add her own room to the right of the bedroom. She\\'ll also set up a small area behind the farmhouse where she\\'ll sometimes go to practice her flute.', metadata={'source': 'Abigail', 'start_index': 18884}),\n",
       " Document(page_content='Abigail.png  Fall 13  Pelican Town  Pierre\\'s General Store  Pierre FatherCaroline Mother  SamSebastian  Yes  Spring 4  AmethystBanana PuddingBlackberry CobblerChocolate CakePufferfishPumpkinSpicy Eel\\n\\nAbigail lives at the general store with her parents. She sometimes fights with her mom, who worries about Abigail\\'s \"alternative lifestyle\". Her mom has the following to say: \"I wish Abby would dress more appropriately and stop dyeing her hair blue. She has such a wonderful natural hair color, just like her grandmother did. Oh, and I wish she’d find some wholesome interests instead of this occult nonsense she\\'s into.\" You might find Abigail alone in the graveyard, or maybe out in a rainstorm looking for frogs. Dev Update #12\\n\\nAbigail is a villager who lives at Pierre\\'s General Store in Pelican Town. She\\'s one of the twelve characters available to marry.\\n\\nSchedule', metadata={'source': 'Abigail', 'start_index': 1}),\n",
       " Document(page_content=\"If sold low quality crops to Pierre\\nOh, [Player]... This is embarrassing. I threw one of your [items] you sold us into my compost bin. Now the whole thing smells horrendous. Where did you find that thing again?\\n\\nIf sold high quality crops to Pierre\\nOh, [Player]... This is embarrassing. I threw one of your [items] you sold us into my compost bin. But on the bright side, the worms are really loving it! They've never looked happier!\\n\\nPlayer married to Abigail\\nHi, [Player]. Are you enjoying the married life? I hope so!\\nDinner's been a lot quieter since Abigail moved out... No, not because she used to chew with her mouth open!\\nHow's Abigail's health? She's always been such a pale girl. Hopefully the farm lifestyle puts a little color in her cheeks.\\nAbby was taking online classes here, but I don't think her heart was really in it... She's a free spirit, like I was before I met Pierre. She's probably having the time of her life on your farm.\", metadata={'source': 'Caroline', 'start_index': 10649}),\n",
       " Document(page_content=\"On rainy days, Abigail may offer you Solar Essence, Bat Wing, Void Essence, Amethyst, or Fire Quartz. On rainy nights, she may offer you soup: Parsnip Soup, Tom Kha Soup, Trout Soup, Chowder, or Lobster Bisque. On days when Abigail stays inside the farmhouse all day, she may offer you a Cherry Bomb, a Bomb, Fried Mushroom, or Crab Cakes to assist with your adventuring in the Mines.\\n\\nQuotes\\n Regular\\xa0First Meeting\\nOh that's right...I heard someone new was moving onto that old farm.\\nIt's  kind of a shame, really. I always enjoyed exploring those overgrown fields by myself.\", metadata={'source': 'Abigail', 'start_index': 19534})]"
      ]
     },
     "execution_count": 49,
     "metadata": {},
     "output_type": "execute_result"
    }
   ],
   "source": [
    "retriever = vector_db.as_retriever()\n",
    "\n",
    "query='Can you marry Abigail'\n",
    "retriever.get_relevant_documents(query)"
   ]
  },
  {
   "cell_type": "code",
   "execution_count": 36,
   "metadata": {},
   "outputs": [],
   "source": [
    "from langchain import hub\n",
    "from langchain_core.output_parsers import StrOutputParser\n",
    "from langchain_core.runnables import RunnablePassthrough\n",
    "from langchain_community.llms import Ollama\n",
    "\n",
    "llm = Ollama(model=\"llama3\")\n",
    "\n",
    "\n",
    "prompt = hub.pull(\"rlm/rag-prompt\")\n",
    "\n",
    "def format_docs(docs):\n",
    "    return \"\\n\\n\".join(doc.page_content for doc in docs)\n",
    "\n",
    "\n",
    "rag_chain = (\n",
    "    {\"context\": retriever | format_docs, \"question\": RunnablePassthrough()}\n",
    "    | prompt\n",
    "    | llm\n",
    "    | StrOutputParser()\n",
    ")\n"
   ]
  },
  {
   "cell_type": "code",
   "execution_count": 47,
   "metadata": {},
   "outputs": [
    {
     "data": {
      "text/plain": [
       "'Yes, you can marry Abigail in-game.'"
      ]
     },
     "execution_count": 47,
     "metadata": {},
     "output_type": "execute_result"
    }
   ],
   "source": [
    "rag_chain.invoke(\"Can you marry Abigail ingame?\")"
   ]
  },
  {
   "cell_type": "code",
   "execution_count": 21,
   "metadata": {},
   "outputs": [],
   "source": [
    "#TODO:\n",
    "#1. Find a way to format the tables, dialogs, etc in the raw data\n",
    "#2. Faster ingestion in VectorDB \n",
    "#3. Prevent hallucinations"
   ]
  }
 ],
 "metadata": {
  "kernelspec": {
   "display_name": ".venv",
   "language": "python",
   "name": "python3"
  },
  "language_info": {
   "codemirror_mode": {
    "name": "ipython",
    "version": 3
   },
   "file_extension": ".py",
   "mimetype": "text/x-python",
   "name": "python",
   "nbconvert_exporter": "python",
   "pygments_lexer": "ipython3",
   "version": "3.11.0"
  }
 },
 "nbformat": 4,
 "nbformat_minor": 2
}
