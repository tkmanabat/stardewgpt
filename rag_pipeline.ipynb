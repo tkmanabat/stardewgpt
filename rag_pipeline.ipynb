{
 "cells": [
  {
   "cell_type": "code",
   "execution_count": 35,
   "metadata": {},
   "outputs": [],
   "source": [
    "# #https://python.langchain.com/docs/integrations/document_loaders/mediawikidump/\n",
    "\n",
    "# from langchain_community.document_loaders import MWDumpLoader\n",
    "# loader = MWDumpLoader(\n",
    "#     file_path=\"stardewvalleywiki.com_mediawiki-20240505-wikidump\\stardewvalleywiki.com_mediawiki-20240505-current.xml\",\n",
    "#     encoding=\"utf-8\",\n",
    "#     skip_redirects=True,\n",
    "#     stop_on_error=True,\n",
    "# )\n",
    "\n",
    "# #does not export the fricking price \n",
    "# # documents=[doc.page_content for doc in loader.load()]\n",
    "\n",
    "# documents=loader.load()\n"
   ]
  },
  {
   "cell_type": "code",
   "execution_count": 1,
   "metadata": {},
   "outputs": [
    {
     "name": "stderr",
     "output_type": "stream",
     "text": [
      "572it [00:02, 193.33it/s]\n"
     ]
    },
    {
     "ename": "KeyboardInterrupt",
     "evalue": "",
     "output_type": "error",
     "traceback": [
      "\u001b[1;31m---------------------------------------------------------------------------\u001b[0m",
      "\u001b[1;31mKeyboardInterrupt\u001b[0m                         Traceback (most recent call last)",
      "Cell \u001b[1;32mIn[1], line 26\u001b[0m\n\u001b[0;32m     24\u001b[0m \u001b[38;5;28;01mfor\u001b[39;00m page \u001b[38;5;129;01min\u001b[39;00m tqdm(stardew_wiki_dump\u001b[38;5;241m.\u001b[39mpages):\n\u001b[0;32m     25\u001b[0m     \u001b[38;5;28;01mif\u001b[39;00m \u001b[38;5;129;01mnot\u001b[39;00m page\u001b[38;5;241m.\u001b[39mredirect:\n\u001b[1;32m---> 26\u001b[0m         documents\u001b[38;5;241m.\u001b[39mappend(\u001b[43mload_single_page_from_dump\u001b[49m\u001b[43m(\u001b[49m\u001b[43mpage\u001b[49m\u001b[43m)\u001b[49m)\n",
      "Cell \u001b[1;32mIn[1], line 16\u001b[0m, in \u001b[0;36mload_single_page_from_dump\u001b[1;34m(page)\u001b[0m\n\u001b[0;32m     14\u001b[0m \u001b[38;5;28;01mdef\u001b[39;00m \u001b[38;5;21mload_single_page_from_dump\u001b[39m(page):\n\u001b[0;32m     15\u001b[0m     \u001b[38;5;28;01mfor\u001b[39;00m revision \u001b[38;5;129;01min\u001b[39;00m page:\n\u001b[1;32m---> 16\u001b[0m         code \u001b[38;5;241m=\u001b[39m \u001b[43mmwparserfromhell\u001b[49m\u001b[38;5;241;43m.\u001b[39;49m\u001b[43mparse\u001b[49m\u001b[43m(\u001b[49m\u001b[43mrevision\u001b[49m\u001b[38;5;241;43m.\u001b[39;49m\u001b[43mtext\u001b[49m\u001b[43m)\u001b[49m\n\u001b[0;32m     17\u001b[0m         text\u001b[38;5;241m=\u001b[39m code\u001b[38;5;241m.\u001b[39mstrip_code(\n\u001b[0;32m     18\u001b[0m             normalize\u001b[38;5;241m=\u001b[39m\u001b[38;5;28;01mTrue\u001b[39;00m, collapse\u001b[38;5;241m=\u001b[39m\u001b[38;5;28;01mTrue\u001b[39;00m, keep_template_params\u001b[38;5;241m=\u001b[39m\u001b[38;5;28;01mTrue\u001b[39;00m\n\u001b[0;32m     19\u001b[0m         )\n\u001b[0;32m     20\u001b[0m         metadata \u001b[38;5;241m=\u001b[39m {\u001b[38;5;124m\"\u001b[39m\u001b[38;5;124msource\u001b[39m\u001b[38;5;124m\"\u001b[39m:page\u001b[38;5;241m.\u001b[39mtitle}\n",
      "File \u001b[1;32md:\\User\\Documents - Data Drive\\Kyle\\Projects\\Misc\\StardewGPT\\.venv\\Lib\\site-packages\\mwparserfromhell\\utils.py:63\u001b[0m, in \u001b[0;36mparse_anything\u001b[1;34m(value, context, skip_style_tags)\u001b[0m\n\u001b[0;32m     61\u001b[0m     \u001b[38;5;28;01mreturn\u001b[39;00m Wikicode(SmartList([value]))\n\u001b[0;32m     62\u001b[0m \u001b[38;5;28;01mif\u001b[39;00m \u001b[38;5;28misinstance\u001b[39m(value, \u001b[38;5;28mstr\u001b[39m):\n\u001b[1;32m---> 63\u001b[0m     \u001b[38;5;28;01mreturn\u001b[39;00m \u001b[43mParser\u001b[49m\u001b[43m(\u001b[49m\u001b[43m)\u001b[49m\u001b[38;5;241;43m.\u001b[39;49m\u001b[43mparse\u001b[49m\u001b[43m(\u001b[49m\u001b[43mvalue\u001b[49m\u001b[43m,\u001b[49m\u001b[43m \u001b[49m\u001b[43mcontext\u001b[49m\u001b[43m,\u001b[49m\u001b[43m \u001b[49m\u001b[43mskip_style_tags\u001b[49m\u001b[43m)\u001b[49m\n\u001b[0;32m     64\u001b[0m \u001b[38;5;28;01mif\u001b[39;00m \u001b[38;5;28misinstance\u001b[39m(value, \u001b[38;5;28mbytes\u001b[39m):\n\u001b[0;32m     65\u001b[0m     \u001b[38;5;28;01mreturn\u001b[39;00m Parser()\u001b[38;5;241m.\u001b[39mparse(value\u001b[38;5;241m.\u001b[39mdecode(\u001b[38;5;124m\"\u001b[39m\u001b[38;5;124mutf8\u001b[39m\u001b[38;5;124m\"\u001b[39m), context, skip_style_tags)\n",
      "File \u001b[1;32md:\\User\\Documents - Data Drive\\Kyle\\Projects\\Misc\\StardewGPT\\.venv\\Lib\\site-packages\\mwparserfromhell\\parser\\__init__.py:85\u001b[0m, in \u001b[0;36mParser.parse\u001b[1;34m(self, text, context, skip_style_tags)\u001b[0m\n\u001b[0;32m     69\u001b[0m \u001b[38;5;250m\u001b[39m\u001b[38;5;124;03m\"\"\"Parse *text*, returning a :class:`.Wikicode` object tree.\u001b[39;00m\n\u001b[0;32m     70\u001b[0m \n\u001b[0;32m     71\u001b[0m \u001b[38;5;124;03mIf given, *context* will be passed as a starting context to the parser.\u001b[39;00m\n\u001b[1;32m   (...)\u001b[0m\n\u001b[0;32m     82\u001b[0m \u001b[38;5;124;03mbe raised.\u001b[39;00m\n\u001b[0;32m     83\u001b[0m \u001b[38;5;124;03m\"\"\"\u001b[39;00m\n\u001b[0;32m     84\u001b[0m tokens \u001b[38;5;241m=\u001b[39m \u001b[38;5;28mself\u001b[39m\u001b[38;5;241m.\u001b[39m_tokenizer\u001b[38;5;241m.\u001b[39mtokenize(text, context, skip_style_tags)\n\u001b[1;32m---> 85\u001b[0m code \u001b[38;5;241m=\u001b[39m \u001b[38;5;28;43mself\u001b[39;49m\u001b[38;5;241;43m.\u001b[39;49m\u001b[43m_builder\u001b[49m\u001b[38;5;241;43m.\u001b[39;49m\u001b[43mbuild\u001b[49m\u001b[43m(\u001b[49m\u001b[43mtokens\u001b[49m\u001b[43m)\u001b[49m\n\u001b[0;32m     86\u001b[0m \u001b[38;5;28;01mreturn\u001b[39;00m code\n",
      "File \u001b[1;32md:\\User\\Documents - Data Drive\\Kyle\\Projects\\Misc\\StardewGPT\\.venv\\Lib\\site-packages\\mwparserfromhell\\parser\\builder.py:332\u001b[0m, in \u001b[0;36mBuilder.build\u001b[1;34m(self, tokenlist)\u001b[0m\n\u001b[0;32m    330\u001b[0m \u001b[38;5;28mself\u001b[39m\u001b[38;5;241m.\u001b[39m_push()\n\u001b[0;32m    331\u001b[0m \u001b[38;5;28;01mwhile\u001b[39;00m \u001b[38;5;28mself\u001b[39m\u001b[38;5;241m.\u001b[39m_tokens:\n\u001b[1;32m--> 332\u001b[0m     node \u001b[38;5;241m=\u001b[39m \u001b[38;5;28;43mself\u001b[39;49m\u001b[38;5;241;43m.\u001b[39;49m\u001b[43m_handle_token\u001b[49m\u001b[43m(\u001b[49m\u001b[38;5;28;43mself\u001b[39;49m\u001b[38;5;241;43m.\u001b[39;49m\u001b[43m_tokens\u001b[49m\u001b[38;5;241;43m.\u001b[39;49m\u001b[43mpop\u001b[49m\u001b[43m(\u001b[49m\u001b[43m)\u001b[49m\u001b[43m)\u001b[49m\n\u001b[0;32m    333\u001b[0m     \u001b[38;5;28mself\u001b[39m\u001b[38;5;241m.\u001b[39m_write(node)\n\u001b[0;32m    334\u001b[0m \u001b[38;5;28;01mreturn\u001b[39;00m \u001b[38;5;28mself\u001b[39m\u001b[38;5;241m.\u001b[39m_pop()\n",
      "File \u001b[1;32md:\\User\\Documents - Data Drive\\Kyle\\Projects\\Misc\\StardewGPT\\.venv\\Lib\\site-packages\\mwparserfromhell\\parser\\builder.py:321\u001b[0m, in \u001b[0;36mBuilder._handle_token\u001b[1;34m(self, token)\u001b[0m\n\u001b[0;32m    319\u001b[0m \u001b[38;5;250m\u001b[39m\u001b[38;5;124;03m\"\"\"Handle a single token.\"\"\"\u001b[39;00m\n\u001b[0;32m    320\u001b[0m \u001b[38;5;28;01mtry\u001b[39;00m:\n\u001b[1;32m--> 321\u001b[0m     \u001b[38;5;28;01mreturn\u001b[39;00m \u001b[43m_HANDLERS\u001b[49m\u001b[43m[\u001b[49m\u001b[38;5;28;43mtype\u001b[39;49m\u001b[43m(\u001b[49m\u001b[43mtoken\u001b[49m\u001b[43m)\u001b[49m\u001b[43m]\u001b[49m\u001b[43m(\u001b[49m\u001b[38;5;28;43mself\u001b[39;49m\u001b[43m,\u001b[49m\u001b[43m \u001b[49m\u001b[43mtoken\u001b[49m\u001b[43m)\u001b[49m\n\u001b[0;32m    322\u001b[0m \u001b[38;5;28;01mexcept\u001b[39;00m \u001b[38;5;167;01mKeyError\u001b[39;00m:\n\u001b[0;32m    323\u001b[0m     err \u001b[38;5;241m=\u001b[39m \u001b[38;5;124m\"\u001b[39m\u001b[38;5;124m_handle_token() got unexpected \u001b[39m\u001b[38;5;132;01m{0}\u001b[39;00m\u001b[38;5;124m\"\u001b[39m\n",
      "File \u001b[1;32md:\\User\\Documents - Data Drive\\Kyle\\Projects\\Misc\\StardewGPT\\.venv\\Lib\\site-packages\\mwparserfromhell\\parser\\builder.py:315\u001b[0m, in \u001b[0;36mBuilder._handle_tag\u001b[1;34m(self, token)\u001b[0m\n\u001b[0;32m    301\u001b[0m         \u001b[38;5;28;01mreturn\u001b[39;00m Tag(\n\u001b[0;32m    302\u001b[0m             tag,\n\u001b[0;32m    303\u001b[0m             contents,\n\u001b[1;32m   (...)\u001b[0m\n\u001b[0;32m    312\u001b[0m             closing_wiki_markup,\n\u001b[0;32m    313\u001b[0m         )\n\u001b[0;32m    314\u001b[0m     \u001b[38;5;28;01melse\u001b[39;00m:\n\u001b[1;32m--> 315\u001b[0m         \u001b[38;5;28mself\u001b[39m\u001b[38;5;241m.\u001b[39m_write(\u001b[38;5;28;43mself\u001b[39;49m\u001b[38;5;241;43m.\u001b[39;49m\u001b[43m_handle_token\u001b[49m\u001b[43m(\u001b[49m\u001b[43mtoken\u001b[49m\u001b[43m)\u001b[49m)\n\u001b[0;32m    316\u001b[0m \u001b[38;5;28;01mraise\u001b[39;00m ParserError(\u001b[38;5;124m\"\u001b[39m\u001b[38;5;124m_handle_tag() missed a close token\u001b[39m\u001b[38;5;124m\"\u001b[39m)\n",
      "File \u001b[1;32md:\\User\\Documents - Data Drive\\Kyle\\Projects\\Misc\\StardewGPT\\.venv\\Lib\\site-packages\\mwparserfromhell\\parser\\builder.py:321\u001b[0m, in \u001b[0;36mBuilder._handle_token\u001b[1;34m(self, token)\u001b[0m\n\u001b[0;32m    319\u001b[0m \u001b[38;5;250m\u001b[39m\u001b[38;5;124;03m\"\"\"Handle a single token.\"\"\"\u001b[39;00m\n\u001b[0;32m    320\u001b[0m \u001b[38;5;28;01mtry\u001b[39;00m:\n\u001b[1;32m--> 321\u001b[0m     \u001b[38;5;28;01mreturn\u001b[39;00m \u001b[43m_HANDLERS\u001b[49m\u001b[43m[\u001b[49m\u001b[38;5;28;43mtype\u001b[39;49m\u001b[43m(\u001b[49m\u001b[43mtoken\u001b[49m\u001b[43m)\u001b[49m\u001b[43m]\u001b[49m\u001b[43m(\u001b[49m\u001b[38;5;28;43mself\u001b[39;49m\u001b[43m,\u001b[49m\u001b[43m \u001b[49m\u001b[43mtoken\u001b[49m\u001b[43m)\u001b[49m\n\u001b[0;32m    322\u001b[0m \u001b[38;5;28;01mexcept\u001b[39;00m \u001b[38;5;167;01mKeyError\u001b[39;00m:\n\u001b[0;32m    323\u001b[0m     err \u001b[38;5;241m=\u001b[39m \u001b[38;5;124m\"\u001b[39m\u001b[38;5;124m_handle_token() got unexpected \u001b[39m\u001b[38;5;132;01m{0}\u001b[39;00m\u001b[38;5;124m\"\u001b[39m\n",
      "File \u001b[1;32md:\\User\\Documents - Data Drive\\Kyle\\Projects\\Misc\\StardewGPT\\.venv\\Lib\\site-packages\\mwparserfromhell\\parser\\builder.py:315\u001b[0m, in \u001b[0;36mBuilder._handle_tag\u001b[1;34m(self, token)\u001b[0m\n\u001b[0;32m    301\u001b[0m         \u001b[38;5;28;01mreturn\u001b[39;00m Tag(\n\u001b[0;32m    302\u001b[0m             tag,\n\u001b[0;32m    303\u001b[0m             contents,\n\u001b[1;32m   (...)\u001b[0m\n\u001b[0;32m    312\u001b[0m             closing_wiki_markup,\n\u001b[0;32m    313\u001b[0m         )\n\u001b[0;32m    314\u001b[0m     \u001b[38;5;28;01melse\u001b[39;00m:\n\u001b[1;32m--> 315\u001b[0m         \u001b[38;5;28mself\u001b[39m\u001b[38;5;241m.\u001b[39m_write(\u001b[38;5;28;43mself\u001b[39;49m\u001b[38;5;241;43m.\u001b[39;49m\u001b[43m_handle_token\u001b[49m\u001b[43m(\u001b[49m\u001b[43mtoken\u001b[49m\u001b[43m)\u001b[49m)\n\u001b[0;32m    316\u001b[0m \u001b[38;5;28;01mraise\u001b[39;00m ParserError(\u001b[38;5;124m\"\u001b[39m\u001b[38;5;124m_handle_tag() missed a close token\u001b[39m\u001b[38;5;124m\"\u001b[39m)\n",
      "    \u001b[1;31m[... skipping similar frames: Builder._handle_tag at line 315 (3 times), Builder._handle_token at line 321 (3 times)]\u001b[0m\n",
      "File \u001b[1;32md:\\User\\Documents - Data Drive\\Kyle\\Projects\\Misc\\StardewGPT\\.venv\\Lib\\site-packages\\mwparserfromhell\\parser\\builder.py:321\u001b[0m, in \u001b[0;36mBuilder._handle_token\u001b[1;34m(self, token)\u001b[0m\n\u001b[0;32m    319\u001b[0m \u001b[38;5;250m\u001b[39m\u001b[38;5;124;03m\"\"\"Handle a single token.\"\"\"\u001b[39;00m\n\u001b[0;32m    320\u001b[0m \u001b[38;5;28;01mtry\u001b[39;00m:\n\u001b[1;32m--> 321\u001b[0m     \u001b[38;5;28;01mreturn\u001b[39;00m \u001b[43m_HANDLERS\u001b[49m\u001b[43m[\u001b[49m\u001b[38;5;28;43mtype\u001b[39;49m\u001b[43m(\u001b[49m\u001b[43mtoken\u001b[49m\u001b[43m)\u001b[49m\u001b[43m]\u001b[49m\u001b[43m(\u001b[49m\u001b[38;5;28;43mself\u001b[39;49m\u001b[43m,\u001b[49m\u001b[43m \u001b[49m\u001b[43mtoken\u001b[49m\u001b[43m)\u001b[49m\n\u001b[0;32m    322\u001b[0m \u001b[38;5;28;01mexcept\u001b[39;00m \u001b[38;5;167;01mKeyError\u001b[39;00m:\n\u001b[0;32m    323\u001b[0m     err \u001b[38;5;241m=\u001b[39m \u001b[38;5;124m\"\u001b[39m\u001b[38;5;124m_handle_token() got unexpected \u001b[39m\u001b[38;5;132;01m{0}\u001b[39;00m\u001b[38;5;124m\"\u001b[39m\n",
      "File \u001b[1;32md:\\User\\Documents - Data Drive\\Kyle\\Projects\\Misc\\StardewGPT\\.venv\\Lib\\site-packages\\mwparserfromhell\\parser\\builder.py:315\u001b[0m, in \u001b[0;36mBuilder._handle_tag\u001b[1;34m(self, token)\u001b[0m\n\u001b[0;32m    301\u001b[0m         \u001b[38;5;28;01mreturn\u001b[39;00m Tag(\n\u001b[0;32m    302\u001b[0m             tag,\n\u001b[0;32m    303\u001b[0m             contents,\n\u001b[1;32m   (...)\u001b[0m\n\u001b[0;32m    312\u001b[0m             closing_wiki_markup,\n\u001b[0;32m    313\u001b[0m         )\n\u001b[0;32m    314\u001b[0m     \u001b[38;5;28;01melse\u001b[39;00m:\n\u001b[1;32m--> 315\u001b[0m         \u001b[38;5;28;43mself\u001b[39;49m\u001b[38;5;241;43m.\u001b[39;49m\u001b[43m_write\u001b[49m\u001b[43m(\u001b[49m\u001b[38;5;28;43mself\u001b[39;49m\u001b[38;5;241;43m.\u001b[39;49m\u001b[43m_handle_token\u001b[49m\u001b[43m(\u001b[49m\u001b[43mtoken\u001b[49m\u001b[43m)\u001b[49m\u001b[43m)\u001b[49m\n\u001b[0;32m    316\u001b[0m \u001b[38;5;28;01mraise\u001b[39;00m ParserError(\u001b[38;5;124m\"\u001b[39m\u001b[38;5;124m_handle_tag() missed a close token\u001b[39m\u001b[38;5;124m\"\u001b[39m)\n",
      "File \u001b[1;32md:\\User\\Documents - Data Drive\\Kyle\\Projects\\Misc\\StardewGPT\\.venv\\Lib\\site-packages\\mwparserfromhell\\parser\\builder.py:79\u001b[0m, in \u001b[0;36mBuilder._write\u001b[1;34m(self, item)\u001b[0m\n\u001b[0;32m     72\u001b[0m \u001b[38;5;250m    \u001b[39m\u001b[38;5;124;03m\"\"\"Pop the current node list off of the stack.\u001b[39;00m\n\u001b[0;32m     73\u001b[0m \n\u001b[0;32m     74\u001b[0m \u001b[38;5;124;03m    The raw node list is wrapped in a :class:`.SmartList` and then in a\u001b[39;00m\n\u001b[0;32m     75\u001b[0m \u001b[38;5;124;03m    :class:`.Wikicode` object.\u001b[39;00m\n\u001b[0;32m     76\u001b[0m \u001b[38;5;124;03m    \"\"\"\u001b[39;00m\n\u001b[0;32m     77\u001b[0m     \u001b[38;5;28;01mreturn\u001b[39;00m Wikicode(SmartList(\u001b[38;5;28mself\u001b[39m\u001b[38;5;241m.\u001b[39m_stacks\u001b[38;5;241m.\u001b[39mpop()))\n\u001b[1;32m---> 79\u001b[0m \u001b[38;5;28;01mdef\u001b[39;00m \u001b[38;5;21m_write\u001b[39m(\u001b[38;5;28mself\u001b[39m, item):\n\u001b[0;32m     80\u001b[0m \u001b[38;5;250m    \u001b[39m\u001b[38;5;124;03m\"\"\"Append a node to the current node list.\"\"\"\u001b[39;00m\n\u001b[0;32m     81\u001b[0m     \u001b[38;5;28mself\u001b[39m\u001b[38;5;241m.\u001b[39m_stacks[\u001b[38;5;241m-\u001b[39m\u001b[38;5;241m1\u001b[39m]\u001b[38;5;241m.\u001b[39mappend(item)\n",
      "\u001b[1;31mKeyboardInterrupt\u001b[0m: "
     ]
    }
   ],
   "source": [
    "# #https://github.com/earwig/mwparserfromhell\n",
    "# import mwxml\n",
    "# import mwparserfromhell\n",
    "# from langchain_core.documents import Document\n",
    "# from tqdm import tqdm\n",
    "\n",
    "\n",
    "\n",
    "# stardew_wiki_dump = mwxml.Dump.from_file(open(\"stardewvalleywiki.com_mediawiki-20240505-wikidump\\stardewvalleywiki.com_mediawiki-20240505-current.xml\", encoding=\"utf-8\"))\n",
    "\n",
    "# documents=[]\n",
    "\n",
    "\n",
    "# def load_single_page_from_dump(page):\n",
    "#     for revision in page:\n",
    "#         code = mwparserfromhell.parse(revision.text)\n",
    "#         text= code.strip_code(\n",
    "#             normalize=True, collapse=True, keep_template_params=True\n",
    "#         )\n",
    "#         metadata = {\"source\":page.title}\n",
    "#         text=text.split('Category')[0]\n",
    "#         return Document(page_content=text, metadata=metadata)\n",
    "\n",
    "# for page in tqdm(stardew_wiki_dump.pages):\n",
    "#     if not page.redirect:\n",
    "#         documents.append(load_single_page_from_dump(page))\n",
    "        \n"
   ]
  },
  {
   "cell_type": "code",
   "execution_count": 14,
   "metadata": {},
   "outputs": [
    {
     "name": "stderr",
     "output_type": "stream",
     "text": [
      "2829it [00:14, 190.74it/s]\n"
     ]
    }
   ],
   "source": [
    "#https://github.com/earwig/mwparserfromhell\n",
    "import mwxml\n",
    "import mwparserfromhell\n",
    "from langchain_core.documents import Document\n",
    "from tqdm import tqdm\n",
    "\n",
    "\n",
    "\n",
    "stardew_wiki_dump = mwxml.Dump.from_file(open(\"stardewvalleywiki.com_mediawiki-20240505-wikidump\\stardewvalleywiki.com_mediawiki-20240505-current.xml\", encoding=\"utf-8\"))\n",
    "\n",
    "raw_documents=[]\n",
    "    \n",
    "\n",
    "for page in tqdm(stardew_wiki_dump.pages):\n",
    "    if not page.redirect:\n",
    "        for revision in page:\n",
    "            # if page.title ==\"Abigail\":\n",
    "            code = mwparserfromhell.parse(revision.text)\n",
    "            # print(f'================Code=================\\n{code}\\n================Code=================')\n",
    "            # text= code.strip_code(\n",
    "            #     normalize=False, collapse=True, keep_template_params=True\n",
    "            # )\n",
    "            # print(f'================Text=================\\n{text}\\n================Text=================')\n",
    "            metadata = {\"source\":page.title}\n",
    "            code=code.split('[[Category')[0]\n",
    "            \n",
    "            raw_documents.append(Document(page_content=code, metadata=metadata))\n",
    "                # break\n",
    "                \n",
    "# print(documents[0].page_content)"
   ]
  },
  {
   "cell_type": "code",
   "execution_count": 25,
   "metadata": {},
   "outputs": [],
   "source": [
    "from langchain.text_splitter import RecursiveCharacterTextSplitter\n",
    "from typing import Any\n",
    "\n",
    "splitter = RecursiveCharacterTextSplitter(\n",
    "    add_start_index=True,\n",
    "    chunk_size=1000,\n",
    "    is_separator_regex=True,\n",
    "    # separators = [r\"\\w(=){3}\\n\", r\"\\w(=){2}\\n\", r\"\\n\\n\", r\"\\n\"],\n",
    "    separators = [r\"\\n\\n\", r\"\\n\"],\n",
    "    # keep_seperator=False\n",
    ")\n",
    "\n",
    "# documents=splitter.create_documents(documents)\n",
    "documents=splitter.split_documents(raw_documents)"
   ]
  },
  {
   "cell_type": "code",
   "execution_count": 29,
   "metadata": {},
   "outputs": [
    {
     "name": "stderr",
     "output_type": "stream",
     "text": [
      "d:\\User\\Documents - Data Drive\\Kyle\\Projects\\Misc\\StardewGPT\\.venv\\Lib\\site-packages\\tqdm\\auto.py:21: TqdmWarning: IProgress not found. Please update jupyter and ipywidgets. See https://ipywidgets.readthedocs.io/en/stable/user_install.html\n",
      "  from .autonotebook import tqdm as notebook_tqdm\n",
      "d:\\User\\Documents - Data Drive\\Kyle\\Projects\\Misc\\StardewGPT\\.venv\\Lib\\site-packages\\huggingface_hub\\file_download.py:1132: FutureWarning: `resume_download` is deprecated and will be removed in version 1.0.0. Downloads always resume when possible. If you want to force a new download, use `force_download=True`.\n",
      "  warnings.warn(\n",
      "d:\\User\\Documents - Data Drive\\Kyle\\Projects\\Misc\\StardewGPT\\.venv\\Lib\\site-packages\\huggingface_hub\\file_download.py:1132: FutureWarning: `resume_download` is deprecated and will be removed in version 1.0.0. Downloads always resume when possible. If you want to force a new download, use `force_download=True`.\n",
      "  warnings.warn(\n"
     ]
    }
   ],
   "source": [
    "from langchain.embeddings.sentence_transformer import SentenceTransformerEmbeddings\n",
    "\n",
    "embedding_function = SentenceTransformerEmbeddings(\n",
    "    model_name=\"all-MiniLM-L6-v2\")"
   ]
  },
  {
   "cell_type": "code",
   "execution_count": 30,
   "metadata": {},
   "outputs": [],
   "source": [
    "from langchain_chroma import Chroma \n",
    "#8minutes\n",
    "vector_db = Chroma.from_documents(documents, embedding_function)#,persist_directory='db')"
   ]
  },
  {
   "cell_type": "code",
   "execution_count": 2,
   "metadata": {},
   "outputs": [],
   "source": [
    "#Load from disk \n",
    "from langchain_chroma import Chroma\n",
    "vector_db=Chroma(persist_directory='db', embedding_function=embedding_function)"
   ]
  },
  {
   "cell_type": "code",
   "execution_count": 60,
   "metadata": {},
   "outputs": [
    {
     "data": {
      "text/plain": [
       "[Document(page_content='In parallel with his work as mayor, he is also involved in the Stardew Valley Agricultural Fund. He may send the player a letter that includes money from the fund \"to help you continue your good work\", such as using it to buy seeds.\\n\\nHe has never been married and has no family; all he lives for is being mayor. He sometimes questions if it was worth it.\\n\\nLewis is particularly good friends with [[Marnie]], as shown in [[Quests#Mayor\\'s &ldquo;Shorts&rdquo;|the \"Mayor\\'s Shorts\"]] story quest. He can also sometimes be found inside [[Marnie\\'s Ranch]] saying, \"I\\'m just here to make sure all of Marnie\\'s business needs are met.\" Additionally, his and Marnie\\'s 6-heart event confirms that they are in a relationship, although he does not want the relationship to become public knowledge.\\n\\n==Gifts==\\n{{GiftHeader}}\\n\\n===Love===\\n{{Quote|Wow, this is my favorite! Thank you!}}\\n\\'\\'Stardrop Tea\\'\\'\\n{{Quote|I\\'ve sampled many teas in my life, but none are quite so rare and special as this. Thanks!}}', metadata={'source': 'Lewis', 'start_index': 19967}),\n",
       " Document(page_content='{{Infobox villager\\n|portrait  = Lewis.png\\n|birthday  = {{Season|Spring}} 7\\n|location  = Pelican Town\\n|address   = [[Mayor\\'s Manor]]\\n|friends   = {{NPC|Marnie}}\\n|marriage  = No\\n|clinic    = {{Season|Fall}} 9\\n|favorites = {{name|Autumn\\'s Bounty}}{{name|Glazed Yams}}{{name|Green Tea}}{{name|Hot Pepper}}{{name|Vegetable Medley}}\\n}}\\n{{Quote|I\\'ve been Mayor of [[Pelican Town]] for over twenty years! No one ever runs against me when it\\'s time for an election. I like to think that it means I\\'m doing my job well. I like being Mayor.|Lewis}}\\n\\n\\'\\'\\'Lewis\\'\\'\\' is the mayor of [[Pelican Town]]. Along with [[Robin]], he greets [[The Player|the player]] when they move to the Valley and explains a little bit about life on the farm. Lewis is known to have some sort of relations with [[Marnie]], as the shorts he lost and brown suspenders are found in her bedroom. Furthermore, a note can be found in his bedroom in the lower left on a shelf under a coffee mug, believed to be from her. The note is signed \"-M\".', metadata={'source': 'Lewis', 'start_index': 0}),\n",
       " Document(page_content='[[Lewis|Mayor Lewis]] and Marnie have a very close relationship. Although Marnie claims to be single during the [[Flower Dance]], Lewis and Marnie\\'s 6-heart event confirms that they are dating.  Lewis visits Marnie\\'s Ranch to attend to her \"business needs\" on occasion, and the two can often be found drinking together at [[the Stardrop Saloon]] in the evening.  In one of the [[Quests#Mayor\\'s &ldquo;Shorts&rdquo;|story quests]], Lewis asks you to find his lucky purple shorts, which can be found in Marnie\\'s bedroom.\\n\\n==Gifts==\\n{{GiftHeader}}', metadata={'source': 'Marnie', 'start_index': 5661}),\n",
       " Document(page_content='==Quests==\\n*[[Quests#Mayor\\'s &ldquo;Shorts&rdquo;|\"Mayor\\'s Shorts\"]]: Lewis will send the player a letter on the 3rd of [[Summer]] explaining that he lost his shorts and offers a reward to anyone who can find and return them to him \\'\\'discreetly.\\'\\' The player earns {{Price|750}} and 1 [[Friendship]] heart for completing the quest.\\n**If instead the player chooses to place the shorts in their [[Stardew Valley Fair#Grange Display|Grange display]] during Fall, Mayor Lewis will instead be upset, calling it a \"sick joke\" and pay the player off with 750 Star Tokens, demanding they return his shorts the following day. However, the player can decide to keep them and repeat this the following year, without loss in friendship points.\\n**If instead the player chooses to add the shorts as a \"special ingredient\" to the soup present at the [[Luau]] festival, a unique dialogue involving the [[Governor]] and Lewis transpires. This does not affect friendship with the Valley\\'s [[Villagers]].', metadata={'source': 'Lewis', 'start_index': 38490})]"
      ]
     },
     "execution_count": 60,
     "metadata": {},
     "output_type": "execute_result"
    }
   ],
   "source": [
    "#test retriever\n",
    "retriever = vector_db.as_retriever()\n",
    "\n",
    "query=\"When is Mayor Lewis' birthday?\"\n",
    "retriever.get_relevant_documents(query)"
   ]
  },
  {
   "cell_type": "code",
   "execution_count": 33,
   "metadata": {},
   "outputs": [],
   "source": [
    "from langchain import hub\n",
    "from langchain_core.output_parsers import StrOutputParser\n",
    "from langchain_core.runnables import RunnablePassthrough\n",
    "from langchain_community.llms import Ollama\n",
    "\n",
    "llm = Ollama(model=\"llama3\")\n",
    "\n",
    "\n",
    "prompt = hub.pull(\"rlm/rag-prompt\")\n",
    "\n",
    "def format_docs(docs):\n",
    "    return \"\\n\\n\".join(doc.page_content for doc in docs)\n",
    "\n",
    "\n",
    "rag_chain = (\n",
    "    {\"context\": retriever | format_docs, \"question\": RunnablePassthrough()}\n",
    "    | prompt\n",
    "    | llm\n",
    "    | StrOutputParser()\n",
    ")\n"
   ]
  },
  {
   "cell_type": "code",
   "execution_count": 61,
   "metadata": {},
   "outputs": [
    {
     "data": {
      "text/plain": [
       "\"You can find Mayor Lewis' shorts in Marnie's bedroom.\""
      ]
     },
     "execution_count": 61,
     "metadata": {},
     "output_type": "execute_result"
    }
   ],
   "source": [
    "rag_chain.invoke(\"Where can you find Mayor Lewis' shorts?\")"
   ]
  },
  {
   "cell_type": "code",
   "execution_count": 62,
   "metadata": {},
   "outputs": [
    {
     "data": {
      "text/plain": [
       "\"According to the context, Mayor Lewis' birthday is in Spring on the 7th day.\""
      ]
     },
     "execution_count": 62,
     "metadata": {},
     "output_type": "execute_result"
    }
   ],
   "source": [
    "rag_chain.invoke(\"When is Mayor Lewis' birthday?\")"
   ]
  },
  {
   "cell_type": "code",
   "execution_count": 4,
   "metadata": {},
   "outputs": [
    {
     "data": {
      "text/plain": [
       "\"According to the context, Abigail's birthday is on Fall 13. Her parents are Pierre (father) and Caroline (mother).\""
      ]
     },
     "execution_count": 4,
     "metadata": {},
     "output_type": "execute_result"
    }
   ],
   "source": [
    "# Test if the model could understand MediaWiki tables \n",
    "from langchain_community.llms import Ollama\n",
    "\n",
    "llm = Ollama(model=\"llama3\")\n",
    "\n",
    "prompt = \"\"\"\n",
    "Given the context below, answer the following question:\n",
    "Context:\n",
    "{{Infobox villager\n",
    "|portrait  = Abigail.png\n",
    "|birthday  = {{Season|Fall}} 13\n",
    "|location  = Pelican Town\n",
    "|address   = [[Pierre's General Store]]\n",
    "|family    = {{NPC|Pierre|Father}}{{NPC|Caroline|Mother}}\n",
    "|friends   = {{NPC|Sam}}{{NPC|Sebastian}}\n",
    "|marriage  = Yes\n",
    "|clinic    = {{Season|Spring}} 4\n",
    "|favorites = {{name|Amethyst}}{{name|Banana Pudding}}{{name|Blackberry Cobbler}}{{name|Chocolate Cake}}{{name|Pufferfish}}{{name|Pumpkin}}{{name|Spicy Eel}}\n",
    "}}\n",
    "Question: When is Abigail's birthday and who are her parents?\n",
    "\"\"\"\n",
    "\n",
    "llm.invoke(prompt)"
   ]
  },
  {
   "cell_type": "code",
   "execution_count": 3,
   "metadata": {},
   "outputs": [],
   "source": [
    "#TODO:\n",
    "#1. Investigate optimal chunk size for the splitter - Try bigger chunk sizes?, also fix the crop header issue \n",
    "#2. Optimizie the retriever, find a better retriever\n",
    "#3. Have LLMs evals (ragas)\n",
    "#4. Implement in Chainlit "
   ]
  }
 ],
 "metadata": {
  "kernelspec": {
   "display_name": ".venv",
   "language": "python",
   "name": "python3"
  },
  "language_info": {
   "codemirror_mode": {
    "name": "ipython",
    "version": 3
   },
   "file_extension": ".py",
   "mimetype": "text/x-python",
   "name": "python",
   "nbconvert_exporter": "python",
   "pygments_lexer": "ipython3",
   "version": "3.11.0"
  }
 },
 "nbformat": 4,
 "nbformat_minor": 2
}
