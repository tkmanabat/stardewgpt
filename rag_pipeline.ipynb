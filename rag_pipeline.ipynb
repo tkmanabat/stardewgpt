{
 "cells": [
  {
   "cell_type": "code",
   "execution_count": null,
   "metadata": {},
   "outputs": [],
   "source": [
    "#https://python.langchain.com/docs/integrations/document_loaders/mediawikidump/\n",
    "\n",
    "from langchain_community.document_loaders import MWDumpLoader\n",
    "loader = MWDumpLoader(\n",
    "    file_path=\"stardewvalleywiki.com_mediawiki-20240505-wikidump\\stardewvalleywiki.com_mediawiki-20240505-current.xml\",\n",
    "    encoding=\"utf-8\",\n",
    "    skip_redirects=True,\n",
    "    stop_on_error=True,\n",
    ")\n",
    "\n",
    "#does not export the fricking price \n",
    "# documents=[doc.page_content for doc in loader.load()]\n",
    "\n",
    "documents=loader.load()\n"
   ]
  },
  {
   "cell_type": "code",
   "execution_count": 1,
   "metadata": {},
   "outputs": [],
   "source": [
    "#https://github.com/earwig/mwparserfromhell\n",
    "import mwxml\n",
    "import mwparserfromhell\n",
    "from langchain_core.documents import Document\n",
    "\n",
    "\n",
    "stardew_wiki_dump = mwxml.Dump.from_file(open(\"stardewvalleywiki.com_mediawiki-20240505-wikidump\\stardewvalleywiki.com_mediawiki-20240505-current.xml\", encoding=\"utf-8\"))\n",
    "\n",
    "documents=[]\n",
    "\n",
    "def load_single_page_from_dump(page):\n",
    "    for revision in page:\n",
    "        code = mwparserfromhell.parse(revision.text)\n",
    "        text= code.strip_code(\n",
    "            normalize=True, collapse=True, keep_template_params=True\n",
    "        )\n",
    "        metadata = {\"source\":page.title}\n",
    "        return Document(page_content=text, metadata=metadata)\n",
    "\n",
    "for page in stardew_wiki_dump.pages:\n",
    "    documents.append(load_single_page_from_dump(page))\n",
    "\n",
    "\n",
    "\n",
    "# print(documents[2].page_content)\n"
   ]
  },
  {
   "cell_type": "code",
   "execution_count": 2,
   "metadata": {},
   "outputs": [],
   "source": [
    "for i in range(len(documents)):\n",
    "    documents[i].page_content = documents[i].page_content.split(\"Category\")[0]"
   ]
  },
  {
   "cell_type": "code",
   "execution_count": 3,
   "metadata": {},
   "outputs": [
    {
     "name": "stderr",
     "output_type": "stream",
     "text": [
      "d:\\User\\Documents - Data Drive\\Kyle\\Projects\\Misc\\StardewGPT\\.venv\\Lib\\site-packages\\tqdm\\auto.py:21: TqdmWarning: IProgress not found. Please update jupyter and ipywidgets. See https://ipywidgets.readthedocs.io/en/stable/user_install.html\n",
      "  from .autonotebook import tqdm as notebook_tqdm\n"
     ]
    }
   ],
   "source": [
    "from langchain.text_splitter import RecursiveCharacterTextSplitter\n",
    "from typing import Any\n",
    "from tqdm.contrib.concurrent import process_map\n",
    "\n",
    "\n",
    "\n",
    "splitter = RecursiveCharacterTextSplitter(\n",
    "    add_start_index=True,\n",
    "    chunk_size=1000,\n",
    "    is_separator_regex=True,\n",
    "    separators = [r\"\\w(=){3}\\n\", r\"\\w(=){2}\\n\", r\"\\n\\n\", r\"\\n\", r\"\\s\"],\n",
    "    # keep_seperator=False\n",
    ")\n",
    "\n",
    "# documents=splitter.create_documents(documents)\n",
    "documents=splitter.split_documents(documents)"
   ]
  },
  {
   "cell_type": "code",
   "execution_count": 4,
   "metadata": {},
   "outputs": [],
   "source": [
    "from langchain_community.embeddings import OllamaEmbeddings\n",
    "ollama_emb = OllamaEmbeddings(\n",
    "    model=\"llama3\",\n",
    ")\n",
    "# print(ollama_emb.embed_query('This is a test document'))"
   ]
  },
  {
   "cell_type": "code",
   "execution_count": 5,
   "metadata": {},
   "outputs": [],
   "source": [
    "documents=documents[:10]"
   ]
  },
  {
   "cell_type": "code",
   "execution_count": 6,
   "metadata": {},
   "outputs": [],
   "source": [
    "from langchain_chroma import Chroma \n",
    "\n",
    "vector_db = Chroma.from_documents(documents, ollama_emb,persist_directory='db')"
   ]
  },
  {
   "cell_type": "code",
   "execution_count": 7,
   "metadata": {},
   "outputs": [
    {
     "name": "stdout",
     "output_type": "stream",
     "text": [
      "250  y  y\n",
      "Note: This article is about the furniture. For the crop see the Blueberry page.\n",
      "\n",
      "'Blueberries' is a piece of furniture that hangs on a wall. It can rotate into daily stock at the Carpenter's Shop for 250 or the Traveling Cart for between furniture.\n",
      "\n",
      "It's also available from the Furniture Catalogue for 0.\n",
      "\n",
      "Position\n",
      "Note that some small paintings hang higher or lower on the wall than others.\n",
      "\n",
      "File:SmallPaintingsPosition.png\n",
      "\n",
      "History\n",
      "1.0 Introduced.\n"
     ]
    }
   ],
   "source": [
    "query = '1000 years from now'\n",
    "docs = vector_db.similarity_search(query)\n",
    "\n",
    "#trash results, next to fix \n",
    "print(docs[0].page_content)"
   ]
  },
  {
   "cell_type": "code",
   "execution_count": 10,
   "metadata": {},
   "outputs": [
    {
     "data": {
      "text/plain": [
       "[Document(page_content='REDIRECT Stardew Valley Wiki', metadata={'source': 'Main Page', 'start_index': 0}),\n",
       " Document(page_content=\"Retro Catalogue  furniture\\nThe 'Binary' painting is a furniture item available from the Retro Catalogue.\\n\\nHistory\\n1.6 Introduced.\", metadata={'source': \"'Binary'\", 'start_index': 1}),\n",
       " Document(page_content=\"Retro Catalogue  furniture\\nThe 'Abstract' painting is a furniture item available from the Retro Catalogue.\\n\\nHistory\\n1.6 Introduced.\", metadata={'source': \"'Abstract'\", 'start_index': 1}),\n",
       " Document(page_content=\"4000  11 Artifacts that include Rare Disc inline and Dwarf Gadget\\n'Burnt Offering' is a piece of furniture that hangs on a wall. It can be obtained by donating 11 Artifacts that include the Rare Disc and Dwarf Gadget to the Museum.  \\n\\nIt can also be purchased in the Casino for 4000 Qi.\\n\\nHistory\\n1.0 Introduced.\", metadata={'source': \"'Burnt Offering'\", 'start_index': 1})]"
      ]
     },
     "execution_count": 10,
     "metadata": {},
     "output_type": "execute_result"
    }
   ],
   "source": [
    "retriever = vector_db.as_retriever()\n",
    "\n",
    "query='The Binary painting is a furniture item'\n",
    "retriever.get_relevant_documents(query)"
   ]
  },
  {
   "cell_type": "code",
   "execution_count": 13,
   "metadata": {},
   "outputs": [],
   "source": [
    "from langchain import hub\n",
    "from langchain_core.output_parsers import StrOutputParser\n",
    "from langchain_core.runnables import RunnablePassthrough\n",
    "from langchain_community.llms import Ollama\n",
    "\n",
    "llm = Ollama(model=\"llama3\")\n",
    "\n",
    "\n",
    "prompt = hub.pull(\"rlm/rag-prompt\")\n",
    "\n",
    "def format_docs(docs):\n",
    "    return \"\\n\\n\".join(doc.page_content for doc in docs)\n",
    "\n",
    "\n",
    "rag_chain = (\n",
    "    {\"context\": retriever | format_docs, \"question\": RunnablePassthrough()}\n",
    "    | prompt\n",
    "    | llm\n",
    "    | StrOutputParser()\n",
    ")\n"
   ]
  },
  {
   "cell_type": "code",
   "execution_count": 22,
   "metadata": {},
   "outputs": [
    {
     "data": {
      "text/plain": [
       "\"Based on the context, the blueberries furniture piece costs 250 and can be bought from the Carpenter's Shop for 250 (on Saturdays) or the Traveling Cart, or it is also available from the Furniture Catalogue for 0.\""
      ]
     },
     "execution_count": 22,
     "metadata": {},
     "output_type": "execute_result"
    }
   ],
   "source": [
    "rag_chain.invoke(\"How much is the blueberries furniture piece and where could you buy it?\")"
   ]
  },
  {
   "cell_type": "code",
   "execution_count": 21,
   "metadata": {},
   "outputs": [],
   "source": [
    "# from langchain_community.llms import Ollama\n",
    "\n",
    "# llm = Ollama(model=\"llama3\")\n",
    "\n",
    "# llm.invoke(\"Tell me a joke\")"
   ]
  },
  {
   "cell_type": "code",
   "execution_count": null,
   "metadata": {},
   "outputs": [],
   "source": []
  }
 ],
 "metadata": {
  "kernelspec": {
   "display_name": ".venv",
   "language": "python",
   "name": "python3"
  },
  "language_info": {
   "codemirror_mode": {
    "name": "ipython",
    "version": 3
   },
   "file_extension": ".py",
   "mimetype": "text/x-python",
   "name": "python",
   "nbconvert_exporter": "python",
   "pygments_lexer": "ipython3",
   "version": "3.11.0"
  }
 },
 "nbformat": 4,
 "nbformat_minor": 2
}
